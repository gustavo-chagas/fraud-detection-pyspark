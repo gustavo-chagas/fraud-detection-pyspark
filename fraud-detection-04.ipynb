{
 "cells": [
  {
   "cell_type": "markdown",
   "id": "cb9b0821",
   "metadata": {},
   "source": [
    "# 0.0 IMPORTS AND DATA LOADING"
   ]
  },
  {
   "cell_type": "code",
   "execution_count": 2,
   "id": "25f11375",
   "metadata": {
    "ExecuteTime": {
     "end_time": "2023-01-20T02:32:53.203384Z",
     "start_time": "2023-01-20T02:32:53.178865Z"
    }
   },
   "outputs": [],
   "source": [
    "import findspark\n",
    "import pandas as pd\n",
    "from sklearn import metrics as m\n",
    "findspark.init()\n",
    "from pyspark.sql import SparkSession \n",
    "from pyspark.sql.functions import isnan, when, count, col, sum, expr, lit\n",
    "from pyspark.ml.feature import VectorAssembler, StringIndexer, OneHotEncoder, RobustScaler\n",
    "from pyspark.ml.stat import Correlation\n",
    "from pyspark.ml.classification import LogisticRegression"
   ]
  },
  {
   "cell_type": "code",
   "execution_count": 3,
   "id": "df932832",
   "metadata": {
    "ExecuteTime": {
     "end_time": "2023-01-20T02:33:43.728998Z",
     "start_time": "2023-01-20T02:32:53.211640Z"
    }
   },
   "outputs": [],
   "source": [
    "spark = SparkSession.builder.getOrCreate()\n",
    "\n",
    "df = spark.read.csv('Fraud.csv',inferSchema=True,header=True)\n",
    "\n",
    "df = df.drop(df.isFlaggedFraud)"
   ]
  },
  {
   "cell_type": "markdown",
   "id": "cceb038c",
   "metadata": {},
   "source": [
    "# 1.0 DATA DESCRIPTION"
   ]
  },
  {
   "cell_type": "code",
   "execution_count": 4,
   "id": "bcdbbdfe",
   "metadata": {
    "ExecuteTime": {
     "end_time": "2023-01-20T02:33:43.762563Z",
     "start_time": "2023-01-20T02:33:43.740185Z"
    }
   },
   "outputs": [
    {
     "name": "stdout",
     "output_type": "stream",
     "text": [
      "root\n",
      " |-- step: integer (nullable = true)\n",
      " |-- type: string (nullable = true)\n",
      " |-- amount: double (nullable = true)\n",
      " |-- nameOrig: string (nullable = true)\n",
      " |-- oldbalanceOrg: double (nullable = true)\n",
      " |-- newbalanceOrig: double (nullable = true)\n",
      " |-- nameDest: string (nullable = true)\n",
      " |-- oldbalanceDest: double (nullable = true)\n",
      " |-- newbalanceDest: double (nullable = true)\n",
      " |-- isFraud: integer (nullable = true)\n",
      "\n"
     ]
    }
   ],
   "source": [
    "df.printSchema()"
   ]
  },
  {
   "cell_type": "code",
   "execution_count": 5,
   "id": "df39a0d2",
   "metadata": {
    "ExecuteTime": {
     "end_time": "2023-01-20T02:33:44.677817Z",
     "start_time": "2023-01-20T02:33:43.773454Z"
    }
   },
   "outputs": [
    {
     "name": "stdout",
     "output_type": "stream",
     "text": [
      "+----+--------+--------+-----------+-------------+--------------+-----------+--------------+--------------+-------+\n",
      "|step|    type|  amount|   nameOrig|oldbalanceOrg|newbalanceOrig|   nameDest|oldbalanceDest|newbalanceDest|isFraud|\n",
      "+----+--------+--------+-----------+-------------+--------------+-----------+--------------+--------------+-------+\n",
      "|   1| PAYMENT| 9839.64|C1231006815|     170136.0|     160296.36|M1979787155|           0.0|           0.0|      0|\n",
      "|   1| PAYMENT| 1864.28|C1666544295|      21249.0|      19384.72|M2044282225|           0.0|           0.0|      0|\n",
      "|   1|TRANSFER|   181.0|C1305486145|        181.0|           0.0| C553264065|           0.0|           0.0|      1|\n",
      "|   1|CASH_OUT|   181.0| C840083671|        181.0|           0.0|  C38997010|       21182.0|           0.0|      1|\n",
      "|   1| PAYMENT|11668.14|C2048537720|      41554.0|      29885.86|M1230701703|           0.0|           0.0|      0|\n",
      "+----+--------+--------+-----------+-------------+--------------+-----------+--------------+--------------+-------+\n",
      "only showing top 5 rows\n",
      "\n"
     ]
    }
   ],
   "source": [
    "df.show(5)"
   ]
  },
  {
   "cell_type": "code",
   "execution_count": 6,
   "id": "1368cbb0",
   "metadata": {
    "ExecuteTime": {
     "end_time": "2023-01-20T02:33:48.151681Z",
     "start_time": "2023-01-20T02:33:44.686719Z"
    }
   },
   "outputs": [
    {
     "name": "stdout",
     "output_type": "stream",
     "text": [
      "6362620\n",
      "10\n"
     ]
    }
   ],
   "source": [
    "print(df.count())\n",
    "print(len(df.columns))"
   ]
  },
  {
   "cell_type": "code",
   "execution_count": 7,
   "id": "631ffbc0",
   "metadata": {
    "ExecuteTime": {
     "end_time": "2023-01-20T02:34:26.632584Z",
     "start_time": "2023-01-20T02:33:48.159887Z"
    }
   },
   "outputs": [
    {
     "name": "stdout",
     "output_type": "stream",
     "text": [
      "+----+----+------+--------+-------------+--------------+--------+--------------+--------------+-------+\n",
      "|step|type|amount|nameOrig|oldbalanceOrg|newbalanceOrig|nameDest|oldbalanceDest|newbalanceDest|isFraud|\n",
      "+----+----+------+--------+-------------+--------------+--------+--------------+--------------+-------+\n",
      "|   0|   0|     0|       0|            0|             0|       0|             0|             0|      0|\n",
      "+----+----+------+--------+-------------+--------------+--------+--------------+--------------+-------+\n",
      "\n"
     ]
    }
   ],
   "source": [
    "df.select([count(when(isnan(c) | col(c).isNull(), c)).alias(c) for c in df.columns]).show()"
   ]
  },
  {
   "cell_type": "code",
   "execution_count": 8,
   "id": "7eeaff42",
   "metadata": {
    "ExecuteTime": {
     "end_time": "2023-01-20T02:36:26.333632Z",
     "start_time": "2023-01-20T02:34:26.635360Z"
    }
   },
   "outputs": [
    {
     "data": {
      "text/html": [
       "<div>\n",
       "<style scoped>\n",
       "    .dataframe tbody tr th:only-of-type {\n",
       "        vertical-align: middle;\n",
       "    }\n",
       "\n",
       "    .dataframe tbody tr th {\n",
       "        vertical-align: top;\n",
       "    }\n",
       "\n",
       "    .dataframe thead th {\n",
       "        text-align: right;\n",
       "    }\n",
       "</style>\n",
       "<table border=\"1\" class=\"dataframe\">\n",
       "  <thead>\n",
       "    <tr style=\"text-align: right;\">\n",
       "      <th></th>\n",
       "      <th>summary</th>\n",
       "      <th>step</th>\n",
       "      <th>type</th>\n",
       "      <th>amount</th>\n",
       "      <th>nameOrig</th>\n",
       "      <th>oldbalanceOrg</th>\n",
       "      <th>newbalanceOrig</th>\n",
       "      <th>nameDest</th>\n",
       "      <th>oldbalanceDest</th>\n",
       "      <th>newbalanceDest</th>\n",
       "      <th>isFraud</th>\n",
       "    </tr>\n",
       "  </thead>\n",
       "  <tbody>\n",
       "    <tr>\n",
       "      <th>0</th>\n",
       "      <td>count</td>\n",
       "      <td>6362620</td>\n",
       "      <td>6362620</td>\n",
       "      <td>6362620</td>\n",
       "      <td>6362620</td>\n",
       "      <td>6362620</td>\n",
       "      <td>6362620</td>\n",
       "      <td>6362620</td>\n",
       "      <td>6362620</td>\n",
       "      <td>6362620</td>\n",
       "      <td>6362620</td>\n",
       "    </tr>\n",
       "    <tr>\n",
       "      <th>1</th>\n",
       "      <td>mean</td>\n",
       "      <td>243.39724563151657</td>\n",
       "      <td>None</td>\n",
       "      <td>179861.90354913048</td>\n",
       "      <td>None</td>\n",
       "      <td>833883.1040744851</td>\n",
       "      <td>855113.6685785787</td>\n",
       "      <td>None</td>\n",
       "      <td>1100701.6665196505</td>\n",
       "      <td>1224996.3982019336</td>\n",
       "      <td>0.001290820448180152</td>\n",
       "    </tr>\n",
       "    <tr>\n",
       "      <th>2</th>\n",
       "      <td>stddev</td>\n",
       "      <td>142.3319710491305</td>\n",
       "      <td>None</td>\n",
       "      <td>603858.2314629437</td>\n",
       "      <td>None</td>\n",
       "      <td>2888242.6730375397</td>\n",
       "      <td>2924048.502954241</td>\n",
       "      <td>None</td>\n",
       "      <td>3399180.1129944543</td>\n",
       "      <td>3674128.9421196654</td>\n",
       "      <td>0.03590479680160438</td>\n",
       "    </tr>\n",
       "    <tr>\n",
       "      <th>3</th>\n",
       "      <td>min</td>\n",
       "      <td>1</td>\n",
       "      <td>CASH_IN</td>\n",
       "      <td>0.0</td>\n",
       "      <td>C1000000639</td>\n",
       "      <td>0.0</td>\n",
       "      <td>0.0</td>\n",
       "      <td>C1000004082</td>\n",
       "      <td>0.0</td>\n",
       "      <td>0.0</td>\n",
       "      <td>0</td>\n",
       "    </tr>\n",
       "    <tr>\n",
       "      <th>4</th>\n",
       "      <td>25%</td>\n",
       "      <td>156</td>\n",
       "      <td>None</td>\n",
       "      <td>13390.35</td>\n",
       "      <td>None</td>\n",
       "      <td>0.0</td>\n",
       "      <td>0.0</td>\n",
       "      <td>None</td>\n",
       "      <td>0.0</td>\n",
       "      <td>0.0</td>\n",
       "      <td>0</td>\n",
       "    </tr>\n",
       "    <tr>\n",
       "      <th>5</th>\n",
       "      <td>50%</td>\n",
       "      <td>239</td>\n",
       "      <td>None</td>\n",
       "      <td>74864.38</td>\n",
       "      <td>None</td>\n",
       "      <td>14211.23</td>\n",
       "      <td>0.0</td>\n",
       "      <td>None</td>\n",
       "      <td>132623.66</td>\n",
       "      <td>214605.81</td>\n",
       "      <td>0</td>\n",
       "    </tr>\n",
       "    <tr>\n",
       "      <th>6</th>\n",
       "      <td>75%</td>\n",
       "      <td>335</td>\n",
       "      <td>None</td>\n",
       "      <td>208722.05</td>\n",
       "      <td>None</td>\n",
       "      <td>107294.0</td>\n",
       "      <td>144232.62</td>\n",
       "      <td>None</td>\n",
       "      <td>942942.08</td>\n",
       "      <td>1111684.56</td>\n",
       "      <td>0</td>\n",
       "    </tr>\n",
       "    <tr>\n",
       "      <th>7</th>\n",
       "      <td>max</td>\n",
       "      <td>743</td>\n",
       "      <td>TRANSFER</td>\n",
       "      <td>9.244551664E7</td>\n",
       "      <td>C999999784</td>\n",
       "      <td>5.958504037E7</td>\n",
       "      <td>4.958504037E7</td>\n",
       "      <td>M999999784</td>\n",
       "      <td>3.5601588935E8</td>\n",
       "      <td>3.5617927892E8</td>\n",
       "      <td>1</td>\n",
       "    </tr>\n",
       "  </tbody>\n",
       "</table>\n",
       "</div>"
      ],
      "text/plain": [
       "  summary                step      type              amount     nameOrig  \\\n",
       "0   count             6362620   6362620             6362620      6362620   \n",
       "1    mean  243.39724563151657      None  179861.90354913048         None   \n",
       "2  stddev   142.3319710491305      None   603858.2314629437         None   \n",
       "3     min                   1   CASH_IN                 0.0  C1000000639   \n",
       "4     25%                 156      None            13390.35         None   \n",
       "5     50%                 239      None            74864.38         None   \n",
       "6     75%                 335      None           208722.05         None   \n",
       "7     max                 743  TRANSFER       9.244551664E7   C999999784   \n",
       "\n",
       "        oldbalanceOrg     newbalanceOrig     nameDest      oldbalanceDest  \\\n",
       "0             6362620            6362620      6362620             6362620   \n",
       "1   833883.1040744851  855113.6685785787         None  1100701.6665196505   \n",
       "2  2888242.6730375397  2924048.502954241         None  3399180.1129944543   \n",
       "3                 0.0                0.0  C1000004082                 0.0   \n",
       "4                 0.0                0.0         None                 0.0   \n",
       "5            14211.23                0.0         None           132623.66   \n",
       "6            107294.0          144232.62         None           942942.08   \n",
       "7       5.958504037E7      4.958504037E7   M999999784      3.5601588935E8   \n",
       "\n",
       "       newbalanceDest               isFraud  \n",
       "0             6362620               6362620  \n",
       "1  1224996.3982019336  0.001290820448180152  \n",
       "2  3674128.9421196654   0.03590479680160438  \n",
       "3                 0.0                     0  \n",
       "4                 0.0                     0  \n",
       "5           214605.81                     0  \n",
       "6          1111684.56                     0  \n",
       "7      3.5617927892E8                     1  "
      ]
     },
     "execution_count": 8,
     "metadata": {},
     "output_type": "execute_result"
    }
   ],
   "source": [
    "df.summary().toPandas()"
   ]
  },
  {
   "cell_type": "markdown",
   "id": "a195435c",
   "metadata": {},
   "source": [
    "# 2.0 EXPLORATORY DATA ANALYSIS"
   ]
  },
  {
   "cell_type": "code",
   "execution_count": 9,
   "id": "7eda1696",
   "metadata": {
    "ExecuteTime": {
     "end_time": "2023-01-20T02:36:33.652298Z",
     "start_time": "2023-01-20T02:36:26.345812Z"
    }
   },
   "outputs": [
    {
     "name": "stdout",
     "output_type": "stream",
     "text": [
      "+-------+-------+\n",
      "|isFraud|  count|\n",
      "+-------+-------+\n",
      "|      1|   8213|\n",
      "|      0|6354407|\n",
      "+-------+-------+\n",
      "\n"
     ]
    }
   ],
   "source": [
    "df.groupBy('isFraud').count().show()"
   ]
  },
  {
   "cell_type": "code",
   "execution_count": 10,
   "id": "c073d2b5",
   "metadata": {
    "ExecuteTime": {
     "end_time": "2023-01-20T02:36:41.655839Z",
     "start_time": "2023-01-20T02:36:33.658212Z"
    },
    "scrolled": true
   },
   "outputs": [
    {
     "name": "stdout",
     "output_type": "stream",
     "text": [
      "+--------+------------+\n",
      "|    type|sum(isFraud)|\n",
      "+--------+------------+\n",
      "|TRANSFER|        4097|\n",
      "| CASH_IN|           0|\n",
      "|CASH_OUT|        4116|\n",
      "| PAYMENT|           0|\n",
      "|   DEBIT|           0|\n",
      "+--------+------------+\n",
      "\n"
     ]
    }
   ],
   "source": [
    "df.groupBy('type').sum('isFraud').show()"
   ]
  },
  {
   "cell_type": "code",
   "execution_count": 11,
   "id": "99d09108",
   "metadata": {
    "ExecuteTime": {
     "end_time": "2023-01-20T02:36:48.963506Z",
     "start_time": "2023-01-20T02:36:41.671772Z"
    }
   },
   "outputs": [
    {
     "name": "stdout",
     "output_type": "stream",
     "text": [
      "+--------+-------+\n",
      "|    type|  count|\n",
      "+--------+-------+\n",
      "|TRANSFER| 532909|\n",
      "| CASH_IN|1399284|\n",
      "|CASH_OUT|2237500|\n",
      "| PAYMENT|2151495|\n",
      "|   DEBIT|  41432|\n",
      "+--------+-------+\n",
      "\n"
     ]
    }
   ],
   "source": [
    "df.groupBy('type').count().show()"
   ]
  },
  {
   "cell_type": "code",
   "execution_count": 12,
   "id": "bb838346",
   "metadata": {
    "ExecuteTime": {
     "end_time": "2023-01-20T02:37:01.533041Z",
     "start_time": "2023-01-20T02:36:48.973373Z"
    }
   },
   "outputs": [
    {
     "data": {
      "text/plain": [
       "0.4955558261293072"
      ]
     },
     "execution_count": 12,
     "metadata": {},
     "output_type": "execute_result"
    }
   ],
   "source": [
    "(df.filter((df.isFraud==1) & (df.oldbalanceDest==0) & (df.newbalanceDest==0) & (df.amount !=0) ).count())/(df.filter(df.isFraud==1).count())"
   ]
  },
  {
   "cell_type": "markdown",
   "id": "e95e8a17",
   "metadata": {},
   "source": [
    "# 3.0 FILTERING DATA"
   ]
  },
  {
   "cell_type": "code",
   "execution_count": 14,
   "id": "185699f5",
   "metadata": {
    "ExecuteTime": {
     "end_time": "2023-01-20T02:37:14.699534Z",
     "start_time": "2023-01-20T02:37:14.455508Z"
    }
   },
   "outputs": [],
   "source": [
    "df3 = df.drop(*['step','nameOrig','nameDest'])\n",
    "df3 = df3.filter((df.type == 'TRANSFER') | (df.type == 'CASH_OUT') )\n",
    "\n",
    "df3 = df3.filter(df.amount<20e6)\n",
    "df3 = df3.filter(df.oldbalanceDest<5e7)\n",
    "df3 = df3.filter(df.newbalanceDest<5e7)"
   ]
  },
  {
   "cell_type": "code",
   "execution_count": 15,
   "id": "09317b3e",
   "metadata": {
    "ExecuteTime": {
     "end_time": "2023-01-20T02:37:15.101842Z",
     "start_time": "2023-01-20T02:37:14.707946Z"
    },
    "scrolled": true
   },
   "outputs": [
    {
     "data": {
      "text/html": [
       "<div>\n",
       "<style scoped>\n",
       "    .dataframe tbody tr th:only-of-type {\n",
       "        vertical-align: middle;\n",
       "    }\n",
       "\n",
       "    .dataframe tbody tr th {\n",
       "        vertical-align: top;\n",
       "    }\n",
       "\n",
       "    .dataframe thead th {\n",
       "        text-align: right;\n",
       "    }\n",
       "</style>\n",
       "<table border=\"1\" class=\"dataframe\">\n",
       "  <thead>\n",
       "    <tr style=\"text-align: right;\">\n",
       "      <th></th>\n",
       "      <th>type</th>\n",
       "      <th>amount</th>\n",
       "      <th>oldbalanceOrg</th>\n",
       "      <th>newbalanceOrig</th>\n",
       "      <th>oldbalanceDest</th>\n",
       "      <th>newbalanceDest</th>\n",
       "      <th>isFraud</th>\n",
       "    </tr>\n",
       "  </thead>\n",
       "  <tbody>\n",
       "    <tr>\n",
       "      <th>0</th>\n",
       "      <td>TRANSFER</td>\n",
       "      <td>181.00</td>\n",
       "      <td>181.0</td>\n",
       "      <td>0.0</td>\n",
       "      <td>0.0</td>\n",
       "      <td>0.00</td>\n",
       "      <td>1</td>\n",
       "    </tr>\n",
       "    <tr>\n",
       "      <th>1</th>\n",
       "      <td>CASH_OUT</td>\n",
       "      <td>181.00</td>\n",
       "      <td>181.0</td>\n",
       "      <td>0.0</td>\n",
       "      <td>21182.0</td>\n",
       "      <td>0.00</td>\n",
       "      <td>1</td>\n",
       "    </tr>\n",
       "    <tr>\n",
       "      <th>2</th>\n",
       "      <td>CASH_OUT</td>\n",
       "      <td>229133.94</td>\n",
       "      <td>15325.0</td>\n",
       "      <td>0.0</td>\n",
       "      <td>5083.0</td>\n",
       "      <td>51513.44</td>\n",
       "      <td>0</td>\n",
       "    </tr>\n",
       "    <tr>\n",
       "      <th>3</th>\n",
       "      <td>TRANSFER</td>\n",
       "      <td>215310.30</td>\n",
       "      <td>705.0</td>\n",
       "      <td>0.0</td>\n",
       "      <td>22425.0</td>\n",
       "      <td>0.00</td>\n",
       "      <td>0</td>\n",
       "    </tr>\n",
       "    <tr>\n",
       "      <th>4</th>\n",
       "      <td>TRANSFER</td>\n",
       "      <td>311685.89</td>\n",
       "      <td>10835.0</td>\n",
       "      <td>0.0</td>\n",
       "      <td>6267.0</td>\n",
       "      <td>2719172.89</td>\n",
       "      <td>0</td>\n",
       "    </tr>\n",
       "  </tbody>\n",
       "</table>\n",
       "</div>"
      ],
      "text/plain": [
       "       type     amount  oldbalanceOrg  newbalanceOrig  oldbalanceDest  \\\n",
       "0  TRANSFER     181.00          181.0             0.0             0.0   \n",
       "1  CASH_OUT     181.00          181.0             0.0         21182.0   \n",
       "2  CASH_OUT  229133.94        15325.0             0.0          5083.0   \n",
       "3  TRANSFER  215310.30          705.0             0.0         22425.0   \n",
       "4  TRANSFER  311685.89        10835.0             0.0          6267.0   \n",
       "\n",
       "   newbalanceDest  isFraud  \n",
       "0            0.00        1  \n",
       "1            0.00        1  \n",
       "2        51513.44        0  \n",
       "3            0.00        0  \n",
       "4      2719172.89        0  "
      ]
     },
     "execution_count": 15,
     "metadata": {},
     "output_type": "execute_result"
    }
   ],
   "source": [
    "df3.limit(5).toPandas()"
   ]
  },
  {
   "cell_type": "markdown",
   "id": "f573fb25",
   "metadata": {},
   "source": [
    "# 4.0 FEATURE ENGINEERING"
   ]
  },
  {
   "cell_type": "code",
   "execution_count": 16,
   "id": "38d61076",
   "metadata": {
    "ExecuteTime": {
     "end_time": "2023-01-20T02:37:15.224617Z",
     "start_time": "2023-01-20T02:37:15.105732Z"
    }
   },
   "outputs": [],
   "source": [
    "df4 = df3.withColumn('errorBalanceOrig', (df3.oldbalanceOrg - df3.amount - df3.newbalanceOrig))\n",
    "\n",
    "df4 = df4.withColumn('errorBalanceDest', (df4.oldbalanceDest + df4.amount - df4.newbalanceDest))"
   ]
  },
  {
   "cell_type": "code",
   "execution_count": 17,
   "id": "137a3449",
   "metadata": {
    "ExecuteTime": {
     "end_time": "2023-01-20T02:37:15.542419Z",
     "start_time": "2023-01-20T02:37:15.224617Z"
    }
   },
   "outputs": [
    {
     "data": {
      "text/html": [
       "<div>\n",
       "<style scoped>\n",
       "    .dataframe tbody tr th:only-of-type {\n",
       "        vertical-align: middle;\n",
       "    }\n",
       "\n",
       "    .dataframe tbody tr th {\n",
       "        vertical-align: top;\n",
       "    }\n",
       "\n",
       "    .dataframe thead th {\n",
       "        text-align: right;\n",
       "    }\n",
       "</style>\n",
       "<table border=\"1\" class=\"dataframe\">\n",
       "  <thead>\n",
       "    <tr style=\"text-align: right;\">\n",
       "      <th></th>\n",
       "      <th>type</th>\n",
       "      <th>amount</th>\n",
       "      <th>oldbalanceOrg</th>\n",
       "      <th>newbalanceOrig</th>\n",
       "      <th>oldbalanceDest</th>\n",
       "      <th>newbalanceDest</th>\n",
       "      <th>isFraud</th>\n",
       "      <th>errorBalanceOrig</th>\n",
       "      <th>errorBalanceDest</th>\n",
       "    </tr>\n",
       "  </thead>\n",
       "  <tbody>\n",
       "    <tr>\n",
       "      <th>0</th>\n",
       "      <td>TRANSFER</td>\n",
       "      <td>181.00</td>\n",
       "      <td>181.0</td>\n",
       "      <td>0.0</td>\n",
       "      <td>0.0</td>\n",
       "      <td>0.00</td>\n",
       "      <td>1</td>\n",
       "      <td>0.00</td>\n",
       "      <td>181.0</td>\n",
       "    </tr>\n",
       "    <tr>\n",
       "      <th>1</th>\n",
       "      <td>CASH_OUT</td>\n",
       "      <td>181.00</td>\n",
       "      <td>181.0</td>\n",
       "      <td>0.0</td>\n",
       "      <td>21182.0</td>\n",
       "      <td>0.00</td>\n",
       "      <td>1</td>\n",
       "      <td>0.00</td>\n",
       "      <td>21363.0</td>\n",
       "    </tr>\n",
       "    <tr>\n",
       "      <th>2</th>\n",
       "      <td>CASH_OUT</td>\n",
       "      <td>229133.94</td>\n",
       "      <td>15325.0</td>\n",
       "      <td>0.0</td>\n",
       "      <td>5083.0</td>\n",
       "      <td>51513.44</td>\n",
       "      <td>0</td>\n",
       "      <td>-213808.94</td>\n",
       "      <td>182703.5</td>\n",
       "    </tr>\n",
       "    <tr>\n",
       "      <th>3</th>\n",
       "      <td>TRANSFER</td>\n",
       "      <td>215310.30</td>\n",
       "      <td>705.0</td>\n",
       "      <td>0.0</td>\n",
       "      <td>22425.0</td>\n",
       "      <td>0.00</td>\n",
       "      <td>0</td>\n",
       "      <td>-214605.30</td>\n",
       "      <td>237735.3</td>\n",
       "    </tr>\n",
       "    <tr>\n",
       "      <th>4</th>\n",
       "      <td>TRANSFER</td>\n",
       "      <td>311685.89</td>\n",
       "      <td>10835.0</td>\n",
       "      <td>0.0</td>\n",
       "      <td>6267.0</td>\n",
       "      <td>2719172.89</td>\n",
       "      <td>0</td>\n",
       "      <td>-300850.89</td>\n",
       "      <td>-2401220.0</td>\n",
       "    </tr>\n",
       "  </tbody>\n",
       "</table>\n",
       "</div>"
      ],
      "text/plain": [
       "       type     amount  oldbalanceOrg  newbalanceOrig  oldbalanceDest  \\\n",
       "0  TRANSFER     181.00          181.0             0.0             0.0   \n",
       "1  CASH_OUT     181.00          181.0             0.0         21182.0   \n",
       "2  CASH_OUT  229133.94        15325.0             0.0          5083.0   \n",
       "3  TRANSFER  215310.30          705.0             0.0         22425.0   \n",
       "4  TRANSFER  311685.89        10835.0             0.0          6267.0   \n",
       "\n",
       "   newbalanceDest  isFraud  errorBalanceOrig  errorBalanceDest  \n",
       "0            0.00        1              0.00             181.0  \n",
       "1            0.00        1              0.00           21363.0  \n",
       "2        51513.44        0        -213808.94          182703.5  \n",
       "3            0.00        0        -214605.30          237735.3  \n",
       "4      2719172.89        0        -300850.89        -2401220.0  "
      ]
     },
     "execution_count": 17,
     "metadata": {},
     "output_type": "execute_result"
    }
   ],
   "source": [
    "df4.limit(5).toPandas()"
   ]
  },
  {
   "cell_type": "markdown",
   "id": "1bb30d27",
   "metadata": {},
   "source": [
    "# 5.0 DATA PREPARATION"
   ]
  },
  {
   "cell_type": "code",
   "execution_count": 18,
   "id": "74bf806d",
   "metadata": {
    "ExecuteTime": {
     "end_time": "2023-01-20T02:37:25.063931Z",
     "start_time": "2023-01-20T02:37:15.550796Z"
    }
   },
   "outputs": [],
   "source": [
    "typeIndexer = StringIndexer(inputCol='type', outputCol='typeIndex')\n",
    "\n",
    "df5 = typeIndexer.fit(df4).transform(df4)\n",
    "\n",
    "one_hot_encoder = OneHotEncoder(inputCol='typeIndex', outputCol='typeOneHot')\n",
    "\n",
    "# Use the encoder to transform the indexed dataframe\n",
    "one_hot_fitted = one_hot_encoder.fit(df5)\n",
    "df5 = one_hot_fitted.transform(df5)"
   ]
  },
  {
   "cell_type": "code",
   "execution_count": 19,
   "id": "eb68758d",
   "metadata": {
    "ExecuteTime": {
     "end_time": "2023-01-20T02:37:26.059138Z",
     "start_time": "2023-01-20T02:37:25.072015Z"
    }
   },
   "outputs": [
    {
     "data": {
      "text/html": [
       "<div>\n",
       "<style scoped>\n",
       "    .dataframe tbody tr th:only-of-type {\n",
       "        vertical-align: middle;\n",
       "    }\n",
       "\n",
       "    .dataframe tbody tr th {\n",
       "        vertical-align: top;\n",
       "    }\n",
       "\n",
       "    .dataframe thead th {\n",
       "        text-align: right;\n",
       "    }\n",
       "</style>\n",
       "<table border=\"1\" class=\"dataframe\">\n",
       "  <thead>\n",
       "    <tr style=\"text-align: right;\">\n",
       "      <th></th>\n",
       "      <th>type</th>\n",
       "      <th>amount</th>\n",
       "      <th>oldbalanceOrg</th>\n",
       "      <th>newbalanceOrig</th>\n",
       "      <th>oldbalanceDest</th>\n",
       "      <th>newbalanceDest</th>\n",
       "      <th>isFraud</th>\n",
       "      <th>errorBalanceOrig</th>\n",
       "      <th>errorBalanceDest</th>\n",
       "      <th>typeIndex</th>\n",
       "      <th>typeOneHot</th>\n",
       "    </tr>\n",
       "  </thead>\n",
       "  <tbody>\n",
       "    <tr>\n",
       "      <th>0</th>\n",
       "      <td>TRANSFER</td>\n",
       "      <td>181.00</td>\n",
       "      <td>181.0</td>\n",
       "      <td>0.0</td>\n",
       "      <td>0.0</td>\n",
       "      <td>0.00</td>\n",
       "      <td>1</td>\n",
       "      <td>0.00</td>\n",
       "      <td>181.0</td>\n",
       "      <td>1.0</td>\n",
       "      <td>(0.0)</td>\n",
       "    </tr>\n",
       "    <tr>\n",
       "      <th>1</th>\n",
       "      <td>CASH_OUT</td>\n",
       "      <td>181.00</td>\n",
       "      <td>181.0</td>\n",
       "      <td>0.0</td>\n",
       "      <td>21182.0</td>\n",
       "      <td>0.00</td>\n",
       "      <td>1</td>\n",
       "      <td>0.00</td>\n",
       "      <td>21363.0</td>\n",
       "      <td>0.0</td>\n",
       "      <td>(1.0)</td>\n",
       "    </tr>\n",
       "    <tr>\n",
       "      <th>2</th>\n",
       "      <td>CASH_OUT</td>\n",
       "      <td>229133.94</td>\n",
       "      <td>15325.0</td>\n",
       "      <td>0.0</td>\n",
       "      <td>5083.0</td>\n",
       "      <td>51513.44</td>\n",
       "      <td>0</td>\n",
       "      <td>-213808.94</td>\n",
       "      <td>182703.5</td>\n",
       "      <td>0.0</td>\n",
       "      <td>(1.0)</td>\n",
       "    </tr>\n",
       "    <tr>\n",
       "      <th>3</th>\n",
       "      <td>TRANSFER</td>\n",
       "      <td>215310.30</td>\n",
       "      <td>705.0</td>\n",
       "      <td>0.0</td>\n",
       "      <td>22425.0</td>\n",
       "      <td>0.00</td>\n",
       "      <td>0</td>\n",
       "      <td>-214605.30</td>\n",
       "      <td>237735.3</td>\n",
       "      <td>1.0</td>\n",
       "      <td>(0.0)</td>\n",
       "    </tr>\n",
       "    <tr>\n",
       "      <th>4</th>\n",
       "      <td>TRANSFER</td>\n",
       "      <td>311685.89</td>\n",
       "      <td>10835.0</td>\n",
       "      <td>0.0</td>\n",
       "      <td>6267.0</td>\n",
       "      <td>2719172.89</td>\n",
       "      <td>0</td>\n",
       "      <td>-300850.89</td>\n",
       "      <td>-2401220.0</td>\n",
       "      <td>1.0</td>\n",
       "      <td>(0.0)</td>\n",
       "    </tr>\n",
       "  </tbody>\n",
       "</table>\n",
       "</div>"
      ],
      "text/plain": [
       "       type     amount  oldbalanceOrg  newbalanceOrig  oldbalanceDest  \\\n",
       "0  TRANSFER     181.00          181.0             0.0             0.0   \n",
       "1  CASH_OUT     181.00          181.0             0.0         21182.0   \n",
       "2  CASH_OUT  229133.94        15325.0             0.0          5083.0   \n",
       "3  TRANSFER  215310.30          705.0             0.0         22425.0   \n",
       "4  TRANSFER  311685.89        10835.0             0.0          6267.0   \n",
       "\n",
       "   newbalanceDest  isFraud  errorBalanceOrig  errorBalanceDest  typeIndex  \\\n",
       "0            0.00        1              0.00             181.0        1.0   \n",
       "1            0.00        1              0.00           21363.0        0.0   \n",
       "2        51513.44        0        -213808.94          182703.5        0.0   \n",
       "3            0.00        0        -214605.30          237735.3        1.0   \n",
       "4      2719172.89        0        -300850.89        -2401220.0        1.0   \n",
       "\n",
       "  typeOneHot  \n",
       "0      (0.0)  \n",
       "1      (1.0)  \n",
       "2      (1.0)  \n",
       "3      (0.0)  \n",
       "4      (0.0)  "
      ]
     },
     "execution_count": 19,
     "metadata": {},
     "output_type": "execute_result"
    }
   ],
   "source": [
    "df5.limit(5).toPandas()"
   ]
  },
  {
   "cell_type": "code",
   "execution_count": 20,
   "id": "b3cc0f0d",
   "metadata": {
    "ExecuteTime": {
     "end_time": "2023-01-20T02:37:26.100408Z",
     "start_time": "2023-01-20T02:37:26.064188Z"
    }
   },
   "outputs": [],
   "source": [
    "df5 = df5.drop('type','typeIndex')"
   ]
  },
  {
   "cell_type": "code",
   "execution_count": 45,
   "id": "f143d6f7",
   "metadata": {
    "ExecuteTime": {
     "end_time": "2023-01-20T02:57:34.012029Z",
     "start_time": "2023-01-20T02:57:33.515081Z"
    }
   },
   "outputs": [],
   "source": [
    "train, test = df5.randomSplit([0.7,0.3],seed=42)\n",
    "\n",
    "ones = train.filter(col(\"isFraud\") == 1)\n",
    "zeros = train.filter(col(\"isFraud\") == 0)\n",
    "n = 2\n",
    "for i in range(n-1):\n",
    "    ones = ones.union(ones)"
   ]
  },
  {
   "cell_type": "code",
   "execution_count": 46,
   "id": "778f97b3",
   "metadata": {
    "ExecuteTime": {
     "end_time": "2023-01-20T03:01:17.978356Z",
     "start_time": "2023-01-20T02:57:34.023610Z"
    }
   },
   "outputs": [],
   "source": [
    "zeros = zeros.limit(ones.count())\n",
    "train = zeros.union(ones)"
   ]
  },
  {
   "cell_type": "code",
   "execution_count": 47,
   "id": "d9a7a69c",
   "metadata": {
    "ExecuteTime": {
     "end_time": "2023-01-20T03:01:18.029335Z",
     "start_time": "2023-01-20T03:01:17.992476Z"
    }
   },
   "outputs": [
    {
     "data": {
      "text/plain": [
       "['amount',\n",
       " 'oldbalanceOrg',\n",
       " 'newbalanceOrig',\n",
       " 'oldbalanceDest',\n",
       " 'newbalanceDest',\n",
       " 'isFraud',\n",
       " 'errorBalanceOrig',\n",
       " 'errorBalanceDest',\n",
       " 'typeOneHot']"
      ]
     },
     "execution_count": 47,
     "metadata": {},
     "output_type": "execute_result"
    }
   ],
   "source": [
    "train.columns"
   ]
  },
  {
   "cell_type": "code",
   "execution_count": 48,
   "id": "627c5921",
   "metadata": {
    "ExecuteTime": {
     "end_time": "2023-01-20T03:01:18.070433Z",
     "start_time": "2023-01-20T03:01:18.039401Z"
    }
   },
   "outputs": [],
   "source": [
    "assembler = VectorAssembler(inputCols=['amount','oldbalanceOrg','newbalanceOrig','oldbalanceDest','newbalanceDest',\n",
    "                                       'errorBalanceOrig','errorBalanceDest','typeOneHot'], outputCol='features')"
   ]
  },
  {
   "cell_type": "code",
   "execution_count": 49,
   "id": "2f075221",
   "metadata": {
    "ExecuteTime": {
     "end_time": "2023-01-20T03:01:18.342554Z",
     "start_time": "2023-01-20T03:01:18.082602Z"
    }
   },
   "outputs": [],
   "source": [
    "train = assembler.transform(train)\n",
    "train = train.select(col('features'),col('isFraud'))"
   ]
  },
  {
   "cell_type": "code",
   "execution_count": 50,
   "id": "edce2706",
   "metadata": {
    "ExecuteTime": {
     "end_time": "2023-01-20T03:05:24.000288Z",
     "start_time": "2023-01-20T03:01:18.352656Z"
    }
   },
   "outputs": [],
   "source": [
    "scaler = RobustScaler(inputCol=\"features\", outputCol=\"scaledFeatures\")\n",
    "scalerFitted = scaler.fit(train)\n",
    "train = scalerFitted.transform(train)"
   ]
  },
  {
   "cell_type": "code",
   "execution_count": 51,
   "id": "9efa2539",
   "metadata": {
    "ExecuteTime": {
     "end_time": "2023-01-20T03:05:24.080228Z",
     "start_time": "2023-01-20T03:05:24.006361Z"
    }
   },
   "outputs": [],
   "source": [
    "test = assembler.transform(test)\n",
    "test = test.select(col('features'),col('isFraud'))"
   ]
  },
  {
   "cell_type": "code",
   "execution_count": 52,
   "id": "c1009824",
   "metadata": {
    "ExecuteTime": {
     "end_time": "2023-01-20T03:05:24.280013Z",
     "start_time": "2023-01-20T03:05:24.082759Z"
    }
   },
   "outputs": [],
   "source": [
    "test = scalerFitted.transform(test)"
   ]
  },
  {
   "cell_type": "markdown",
   "id": "567961b5",
   "metadata": {},
   "source": [
    "# 6.0 MACHINE LEARNING MODELLING"
   ]
  },
  {
   "cell_type": "code",
   "execution_count": 53,
   "id": "2eb3bdf5",
   "metadata": {
    "ExecuteTime": {
     "end_time": "2023-01-20T03:15:10.419447Z",
     "start_time": "2023-01-20T03:05:24.288416Z"
    }
   },
   "outputs": [],
   "source": [
    "lr = LogisticRegression(labelCol='isFraud')\n",
    "lrn = lr.fit(train)\n",
    "lr_pred = lrn.transform(test)\n",
    "\n",
    "lr_pred = lr_pred.withColumn(\"label\",col(\"isFraud\").cast('double'))"
   ]
  },
  {
   "cell_type": "code",
   "execution_count": 54,
   "id": "c628247f",
   "metadata": {
    "ExecuteTime": {
     "end_time": "2023-01-20T03:18:22.875100Z",
     "start_time": "2023-01-20T03:15:10.427482Z"
    }
   },
   "outputs": [],
   "source": [
    "lr_pred = lr_pred.toPandas()"
   ]
  },
  {
   "cell_type": "code",
   "execution_count": 70,
   "id": "485f1e63",
   "metadata": {
    "ExecuteTime": {
     "end_time": "2023-01-20T03:20:18.486297Z",
     "start_time": "2023-01-20T03:20:16.443323Z"
    }
   },
   "outputs": [],
   "source": [
    "#lr_pred['prediction'] = lr_pred['probability'].apply(lambda x: 1 if x[1]>0.5 else 0)"
   ]
  },
  {
   "cell_type": "code",
   "execution_count": 71,
   "id": "e0453ce4",
   "metadata": {
    "ExecuteTime": {
     "end_time": "2023-01-20T03:20:19.242571Z",
     "start_time": "2023-01-20T03:20:18.979658Z"
    }
   },
   "outputs": [
    {
     "data": {
      "text/html": [
       "<div>\n",
       "<style scoped>\n",
       "    .dataframe tbody tr th:only-of-type {\n",
       "        vertical-align: middle;\n",
       "    }\n",
       "\n",
       "    .dataframe tbody tr th {\n",
       "        vertical-align: top;\n",
       "    }\n",
       "\n",
       "    .dataframe thead th {\n",
       "        text-align: right;\n",
       "    }\n",
       "</style>\n",
       "<table border=\"1\" class=\"dataframe\">\n",
       "  <thead>\n",
       "    <tr style=\"text-align: right;\">\n",
       "      <th>prediction</th>\n",
       "      <th>0</th>\n",
       "      <th>1</th>\n",
       "    </tr>\n",
       "    <tr>\n",
       "      <th>label</th>\n",
       "      <th></th>\n",
       "      <th></th>\n",
       "    </tr>\n",
       "  </thead>\n",
       "  <tbody>\n",
       "    <tr>\n",
       "      <th>0.0</th>\n",
       "      <td>683349</td>\n",
       "      <td>143581</td>\n",
       "    </tr>\n",
       "    <tr>\n",
       "      <th>1.0</th>\n",
       "      <td>289</td>\n",
       "      <td>2164</td>\n",
       "    </tr>\n",
       "  </tbody>\n",
       "</table>\n",
       "</div>"
      ],
      "text/plain": [
       "prediction       0       1\n",
       "label                     \n",
       "0.0         683349  143581\n",
       "1.0            289    2164"
      ]
     },
     "execution_count": 71,
     "metadata": {},
     "output_type": "execute_result"
    }
   ],
   "source": [
    "pd.crosstab(lr_pred['label'],lr_pred['prediction'])"
   ]
  },
  {
   "cell_type": "code",
   "execution_count": 72,
   "id": "6480f4f1",
   "metadata": {
    "ExecuteTime": {
     "end_time": "2023-01-20T03:20:29.635004Z",
     "start_time": "2023-01-20T03:20:28.588903Z"
    }
   },
   "outputs": [
    {
     "data": {
      "text/plain": [
       "0.8821850794944965"
      ]
     },
     "execution_count": 72,
     "metadata": {},
     "output_type": "execute_result"
    }
   ],
   "source": [
    "m.recall_score(lr_pred['label'],lr_pred['prediction'])"
   ]
  },
  {
   "cell_type": "code",
   "execution_count": 73,
   "id": "e5897944",
   "metadata": {
    "ExecuteTime": {
     "end_time": "2023-01-20T03:20:31.429577Z",
     "start_time": "2023-01-20T03:20:30.412108Z"
    }
   },
   "outputs": [
    {
     "data": {
      "text/plain": [
       "0.014847850698137157"
      ]
     },
     "execution_count": 73,
     "metadata": {},
     "output_type": "execute_result"
    }
   ],
   "source": [
    "m.precision_score(lr_pred['label'],lr_pred['prediction'])"
   ]
  },
  {
   "cell_type": "code",
   "execution_count": 74,
   "id": "c7839f69",
   "metadata": {
    "ExecuteTime": {
     "end_time": "2023-01-20T03:20:32.935512Z",
     "start_time": "2023-01-20T03:20:32.509626Z"
    }
   },
   "outputs": [
    {
     "data": {
      "text/plain": [
       "0.8542768479716446"
      ]
     },
     "execution_count": 74,
     "metadata": {},
     "output_type": "execute_result"
    }
   ],
   "source": [
    "m.roc_auc_score(lr_pred['label'],lr_pred['prediction'])"
   ]
  },
  {
   "cell_type": "code",
   "execution_count": null,
   "id": "a1825448",
   "metadata": {},
   "outputs": [],
   "source": []
  }
 ],
 "metadata": {
  "kernelspec": {
   "display_name": "Python 3 (ipykernel)",
   "language": "python",
   "name": "python3"
  },
  "language_info": {
   "codemirror_mode": {
    "name": "ipython",
    "version": 3
   },
   "file_extension": ".py",
   "mimetype": "text/x-python",
   "name": "python",
   "nbconvert_exporter": "python",
   "pygments_lexer": "ipython3",
   "version": "3.8.15"
  }
 },
 "nbformat": 4,
 "nbformat_minor": 5
}

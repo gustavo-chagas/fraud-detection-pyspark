{
 "cells": [
  {
   "cell_type": "markdown",
   "id": "cb9b0821",
   "metadata": {},
   "source": [
    "# 0.0 IMPORTS AND DATA LOADING"
   ]
  },
  {
   "cell_type": "code",
   "execution_count": 1,
   "id": "25f11375",
   "metadata": {
    "ExecuteTime": {
     "end_time": "2023-01-23T23:07:32.885616Z",
     "start_time": "2023-01-23T23:07:30.375053Z"
    }
   },
   "outputs": [],
   "source": [
    "import findspark\n",
    "import pandas as pd\n",
    "from sklearn import metrics as m\n",
    "findspark.init()\n",
    "from pyspark.sql import SparkSession \n",
    "from pyspark.sql.functions import isnan, when, count, col, sum, expr, lit\n",
    "from pyspark.ml.feature import VectorAssembler, StringIndexer, OneHotEncoder, RobustScaler\n",
    "from pyspark.ml.stat import Correlation\n",
    "from pyspark.ml.classification import LogisticRegression, RandomForestClassifier"
   ]
  },
  {
   "cell_type": "code",
   "execution_count": 2,
   "id": "df932832",
   "metadata": {
    "ExecuteTime": {
     "end_time": "2023-01-23T23:07:56.585481Z",
     "start_time": "2023-01-23T23:07:35.166137Z"
    }
   },
   "outputs": [],
   "source": [
    "spark = SparkSession.builder.getOrCreate()\n",
    "\n",
    "df = spark.read.csv('Fraud.csv',inferSchema=True,header=True)\n",
    "\n",
    "df = df.drop(df.isFlaggedFraud)"
   ]
  },
  {
   "cell_type": "markdown",
   "id": "cceb038c",
   "metadata": {},
   "source": [
    "# 1.0 DATA DESCRIPTION"
   ]
  },
  {
   "cell_type": "code",
   "execution_count": 3,
   "id": "bcdbbdfe",
   "metadata": {
    "ExecuteTime": {
     "end_time": "2023-01-23T23:07:58.970139Z",
     "start_time": "2023-01-23T23:07:58.953795Z"
    }
   },
   "outputs": [
    {
     "name": "stdout",
     "output_type": "stream",
     "text": [
      "root\n",
      " |-- step: integer (nullable = true)\n",
      " |-- type: string (nullable = true)\n",
      " |-- amount: double (nullable = true)\n",
      " |-- nameOrig: string (nullable = true)\n",
      " |-- oldbalanceOrg: double (nullable = true)\n",
      " |-- newbalanceOrig: double (nullable = true)\n",
      " |-- nameDest: string (nullable = true)\n",
      " |-- oldbalanceDest: double (nullable = true)\n",
      " |-- newbalanceDest: double (nullable = true)\n",
      " |-- isFraud: integer (nullable = true)\n",
      "\n"
     ]
    }
   ],
   "source": [
    "df.printSchema()"
   ]
  },
  {
   "cell_type": "code",
   "execution_count": 4,
   "id": "df39a0d2",
   "metadata": {
    "ExecuteTime": {
     "end_time": "2023-01-23T23:07:59.910267Z",
     "start_time": "2023-01-23T23:07:59.555682Z"
    }
   },
   "outputs": [
    {
     "name": "stdout",
     "output_type": "stream",
     "text": [
      "+----+--------+--------+-----------+-------------+--------------+-----------+--------------+--------------+-------+\n",
      "|step|    type|  amount|   nameOrig|oldbalanceOrg|newbalanceOrig|   nameDest|oldbalanceDest|newbalanceDest|isFraud|\n",
      "+----+--------+--------+-----------+-------------+--------------+-----------+--------------+--------------+-------+\n",
      "|   1| PAYMENT| 9839.64|C1231006815|     170136.0|     160296.36|M1979787155|           0.0|           0.0|      0|\n",
      "|   1| PAYMENT| 1864.28|C1666544295|      21249.0|      19384.72|M2044282225|           0.0|           0.0|      0|\n",
      "|   1|TRANSFER|   181.0|C1305486145|        181.0|           0.0| C553264065|           0.0|           0.0|      1|\n",
      "|   1|CASH_OUT|   181.0| C840083671|        181.0|           0.0|  C38997010|       21182.0|           0.0|      1|\n",
      "|   1| PAYMENT|11668.14|C2048537720|      41554.0|      29885.86|M1230701703|           0.0|           0.0|      0|\n",
      "+----+--------+--------+-----------+-------------+--------------+-----------+--------------+--------------+-------+\n",
      "only showing top 5 rows\n",
      "\n"
     ]
    }
   ],
   "source": [
    "df.show(5)"
   ]
  },
  {
   "cell_type": "code",
   "execution_count": 5,
   "id": "1368cbb0",
   "metadata": {
    "ExecuteTime": {
     "end_time": "2023-01-23T23:08:01.428236Z",
     "start_time": "2023-01-23T23:08:00.105964Z"
    }
   },
   "outputs": [
    {
     "name": "stdout",
     "output_type": "stream",
     "text": [
      "6362620\n",
      "10\n"
     ]
    }
   ],
   "source": [
    "print(df.count())\n",
    "print(len(df.columns))"
   ]
  },
  {
   "cell_type": "code",
   "execution_count": 6,
   "id": "631ffbc0",
   "metadata": {
    "ExecuteTime": {
     "end_time": "2023-01-23T23:08:15.946312Z",
     "start_time": "2023-01-23T23:08:02.277078Z"
    }
   },
   "outputs": [
    {
     "name": "stdout",
     "output_type": "stream",
     "text": [
      "+----+----+------+--------+-------------+--------------+--------+--------------+--------------+-------+\n",
      "|step|type|amount|nameOrig|oldbalanceOrg|newbalanceOrig|nameDest|oldbalanceDest|newbalanceDest|isFraud|\n",
      "+----+----+------+--------+-------------+--------------+--------+--------------+--------------+-------+\n",
      "|   0|   0|     0|       0|            0|             0|       0|             0|             0|      0|\n",
      "+----+----+------+--------+-------------+--------------+--------+--------------+--------------+-------+\n",
      "\n"
     ]
    }
   ],
   "source": [
    "df.select([count(when(isnan(c) | col(c).isNull(), c)).alias(c) for c in df.columns]).show()"
   ]
  },
  {
   "cell_type": "code",
   "execution_count": 7,
   "id": "7eeaff42",
   "metadata": {
    "ExecuteTime": {
     "end_time": "2023-01-23T23:09:03.866045Z",
     "start_time": "2023-01-23T23:08:15.951321Z"
    }
   },
   "outputs": [
    {
     "data": {
      "text/html": [
       "<div>\n",
       "<style scoped>\n",
       "    .dataframe tbody tr th:only-of-type {\n",
       "        vertical-align: middle;\n",
       "    }\n",
       "\n",
       "    .dataframe tbody tr th {\n",
       "        vertical-align: top;\n",
       "    }\n",
       "\n",
       "    .dataframe thead th {\n",
       "        text-align: right;\n",
       "    }\n",
       "</style>\n",
       "<table border=\"1\" class=\"dataframe\">\n",
       "  <thead>\n",
       "    <tr style=\"text-align: right;\">\n",
       "      <th></th>\n",
       "      <th>summary</th>\n",
       "      <th>step</th>\n",
       "      <th>type</th>\n",
       "      <th>amount</th>\n",
       "      <th>nameOrig</th>\n",
       "      <th>oldbalanceOrg</th>\n",
       "      <th>newbalanceOrig</th>\n",
       "      <th>nameDest</th>\n",
       "      <th>oldbalanceDest</th>\n",
       "      <th>newbalanceDest</th>\n",
       "      <th>isFraud</th>\n",
       "    </tr>\n",
       "  </thead>\n",
       "  <tbody>\n",
       "    <tr>\n",
       "      <th>0</th>\n",
       "      <td>count</td>\n",
       "      <td>6362620</td>\n",
       "      <td>6362620</td>\n",
       "      <td>6362620</td>\n",
       "      <td>6362620</td>\n",
       "      <td>6362620</td>\n",
       "      <td>6362620</td>\n",
       "      <td>6362620</td>\n",
       "      <td>6362620</td>\n",
       "      <td>6362620</td>\n",
       "      <td>6362620</td>\n",
       "    </tr>\n",
       "    <tr>\n",
       "      <th>1</th>\n",
       "      <td>mean</td>\n",
       "      <td>243.39724563151657</td>\n",
       "      <td>None</td>\n",
       "      <td>179861.90354913048</td>\n",
       "      <td>None</td>\n",
       "      <td>833883.1040744851</td>\n",
       "      <td>855113.6685785787</td>\n",
       "      <td>None</td>\n",
       "      <td>1100701.6665196505</td>\n",
       "      <td>1224996.3982019336</td>\n",
       "      <td>0.001290820448180152</td>\n",
       "    </tr>\n",
       "    <tr>\n",
       "      <th>2</th>\n",
       "      <td>stddev</td>\n",
       "      <td>142.3319710491305</td>\n",
       "      <td>None</td>\n",
       "      <td>603858.2314629437</td>\n",
       "      <td>None</td>\n",
       "      <td>2888242.6730375397</td>\n",
       "      <td>2924048.502954241</td>\n",
       "      <td>None</td>\n",
       "      <td>3399180.1129944543</td>\n",
       "      <td>3674128.9421196654</td>\n",
       "      <td>0.03590479680160438</td>\n",
       "    </tr>\n",
       "    <tr>\n",
       "      <th>3</th>\n",
       "      <td>min</td>\n",
       "      <td>1</td>\n",
       "      <td>CASH_IN</td>\n",
       "      <td>0.0</td>\n",
       "      <td>C1000000639</td>\n",
       "      <td>0.0</td>\n",
       "      <td>0.0</td>\n",
       "      <td>C1000004082</td>\n",
       "      <td>0.0</td>\n",
       "      <td>0.0</td>\n",
       "      <td>0</td>\n",
       "    </tr>\n",
       "    <tr>\n",
       "      <th>4</th>\n",
       "      <td>25%</td>\n",
       "      <td>156</td>\n",
       "      <td>None</td>\n",
       "      <td>13390.35</td>\n",
       "      <td>None</td>\n",
       "      <td>0.0</td>\n",
       "      <td>0.0</td>\n",
       "      <td>None</td>\n",
       "      <td>0.0</td>\n",
       "      <td>0.0</td>\n",
       "      <td>0</td>\n",
       "    </tr>\n",
       "    <tr>\n",
       "      <th>5</th>\n",
       "      <td>50%</td>\n",
       "      <td>239</td>\n",
       "      <td>None</td>\n",
       "      <td>74864.38</td>\n",
       "      <td>None</td>\n",
       "      <td>14211.23</td>\n",
       "      <td>0.0</td>\n",
       "      <td>None</td>\n",
       "      <td>132623.66</td>\n",
       "      <td>214605.81</td>\n",
       "      <td>0</td>\n",
       "    </tr>\n",
       "    <tr>\n",
       "      <th>6</th>\n",
       "      <td>75%</td>\n",
       "      <td>335</td>\n",
       "      <td>None</td>\n",
       "      <td>208722.05</td>\n",
       "      <td>None</td>\n",
       "      <td>107294.0</td>\n",
       "      <td>144232.62</td>\n",
       "      <td>None</td>\n",
       "      <td>942942.08</td>\n",
       "      <td>1111684.56</td>\n",
       "      <td>0</td>\n",
       "    </tr>\n",
       "    <tr>\n",
       "      <th>7</th>\n",
       "      <td>max</td>\n",
       "      <td>743</td>\n",
       "      <td>TRANSFER</td>\n",
       "      <td>9.244551664E7</td>\n",
       "      <td>C999999784</td>\n",
       "      <td>5.958504037E7</td>\n",
       "      <td>4.958504037E7</td>\n",
       "      <td>M999999784</td>\n",
       "      <td>3.5601588935E8</td>\n",
       "      <td>3.5617927892E8</td>\n",
       "      <td>1</td>\n",
       "    </tr>\n",
       "  </tbody>\n",
       "</table>\n",
       "</div>"
      ],
      "text/plain": [
       "  summary                step      type              amount     nameOrig  \\\n",
       "0   count             6362620   6362620             6362620      6362620   \n",
       "1    mean  243.39724563151657      None  179861.90354913048         None   \n",
       "2  stddev   142.3319710491305      None   603858.2314629437         None   \n",
       "3     min                   1   CASH_IN                 0.0  C1000000639   \n",
       "4     25%                 156      None            13390.35         None   \n",
       "5     50%                 239      None            74864.38         None   \n",
       "6     75%                 335      None           208722.05         None   \n",
       "7     max                 743  TRANSFER       9.244551664E7   C999999784   \n",
       "\n",
       "        oldbalanceOrg     newbalanceOrig     nameDest      oldbalanceDest  \\\n",
       "0             6362620            6362620      6362620             6362620   \n",
       "1   833883.1040744851  855113.6685785787         None  1100701.6665196505   \n",
       "2  2888242.6730375397  2924048.502954241         None  3399180.1129944543   \n",
       "3                 0.0                0.0  C1000004082                 0.0   \n",
       "4                 0.0                0.0         None                 0.0   \n",
       "5            14211.23                0.0         None           132623.66   \n",
       "6            107294.0          144232.62         None           942942.08   \n",
       "7       5.958504037E7      4.958504037E7   M999999784      3.5601588935E8   \n",
       "\n",
       "       newbalanceDest               isFraud  \n",
       "0             6362620               6362620  \n",
       "1  1224996.3982019336  0.001290820448180152  \n",
       "2  3674128.9421196654   0.03590479680160438  \n",
       "3                 0.0                     0  \n",
       "4                 0.0                     0  \n",
       "5           214605.81                     0  \n",
       "6          1111684.56                     0  \n",
       "7      3.5617927892E8                     1  "
      ]
     },
     "execution_count": 7,
     "metadata": {},
     "output_type": "execute_result"
    }
   ],
   "source": [
    "df.summary().toPandas()"
   ]
  },
  {
   "cell_type": "markdown",
   "id": "a195435c",
   "metadata": {},
   "source": [
    "# 2.0 EXPLORATORY DATA ANALYSIS"
   ]
  },
  {
   "cell_type": "code",
   "execution_count": 8,
   "id": "7eda1696",
   "metadata": {
    "ExecuteTime": {
     "end_time": "2023-01-23T23:09:06.819920Z",
     "start_time": "2023-01-23T23:09:03.869403Z"
    }
   },
   "outputs": [
    {
     "name": "stdout",
     "output_type": "stream",
     "text": [
      "+-------+-------+\n",
      "|isFraud|  count|\n",
      "+-------+-------+\n",
      "|      1|   8213|\n",
      "|      0|6354407|\n",
      "+-------+-------+\n",
      "\n"
     ]
    }
   ],
   "source": [
    "df.groupBy('isFraud').count().show()"
   ]
  },
  {
   "cell_type": "code",
   "execution_count": 9,
   "id": "c073d2b5",
   "metadata": {
    "ExecuteTime": {
     "end_time": "2023-01-23T23:09:09.830692Z",
     "start_time": "2023-01-23T23:09:06.825945Z"
    },
    "scrolled": true
   },
   "outputs": [
    {
     "name": "stdout",
     "output_type": "stream",
     "text": [
      "+--------+------------+\n",
      "|    type|sum(isFraud)|\n",
      "+--------+------------+\n",
      "|TRANSFER|        4097|\n",
      "| CASH_IN|           0|\n",
      "|CASH_OUT|        4116|\n",
      "| PAYMENT|           0|\n",
      "|   DEBIT|           0|\n",
      "+--------+------------+\n",
      "\n"
     ]
    }
   ],
   "source": [
    "df.groupBy('type').sum('isFraud').show()"
   ]
  },
  {
   "cell_type": "code",
   "execution_count": 10,
   "id": "99d09108",
   "metadata": {
    "ExecuteTime": {
     "end_time": "2023-01-23T23:09:12.579354Z",
     "start_time": "2023-01-23T23:09:09.835736Z"
    }
   },
   "outputs": [
    {
     "name": "stdout",
     "output_type": "stream",
     "text": [
      "+--------+-------+\n",
      "|    type|  count|\n",
      "+--------+-------+\n",
      "|TRANSFER| 532909|\n",
      "| CASH_IN|1399284|\n",
      "|CASH_OUT|2237500|\n",
      "| PAYMENT|2151495|\n",
      "|   DEBIT|  41432|\n",
      "+--------+-------+\n",
      "\n"
     ]
    }
   ],
   "source": [
    "df.groupBy('type').count().show()"
   ]
  },
  {
   "cell_type": "code",
   "execution_count": 11,
   "id": "bb838346",
   "metadata": {
    "ExecuteTime": {
     "end_time": "2023-01-23T23:09:17.506672Z",
     "start_time": "2023-01-23T23:09:12.582866Z"
    }
   },
   "outputs": [
    {
     "data": {
      "text/plain": [
       "0.4955558261293072"
      ]
     },
     "execution_count": 11,
     "metadata": {},
     "output_type": "execute_result"
    }
   ],
   "source": [
    "(df.filter((df.isFraud==1) & (df.oldbalanceDest==0) & (df.newbalanceDest==0) & (df.amount !=0) ).count())/(df.filter(df.isFraud==1).count())"
   ]
  },
  {
   "cell_type": "code",
   "execution_count": 12,
   "id": "fa78cb8b",
   "metadata": {
    "ExecuteTime": {
     "end_time": "2023-01-23T23:09:22.874701Z",
     "start_time": "2023-01-23T23:09:17.509705Z"
    }
   },
   "outputs": [
    {
     "data": {
      "text/plain": [
       "0.36403176567065976"
      ]
     },
     "execution_count": 12,
     "metadata": {},
     "output_type": "execute_result"
    }
   ],
   "source": [
    "(df.filter((df.isFraud==0) & (df.oldbalanceDest==0) & (df.newbalanceDest==0) & (df.amount !=0) ).count())/(df.filter(df.isFraud==0).count())"
   ]
  },
  {
   "cell_type": "markdown",
   "id": "e95e8a17",
   "metadata": {},
   "source": [
    "# 3.0 FILTERING DATA"
   ]
  },
  {
   "cell_type": "code",
   "execution_count": 13,
   "id": "185699f5",
   "metadata": {
    "ExecuteTime": {
     "end_time": "2023-01-23T23:09:22.970038Z",
     "start_time": "2023-01-23T23:09:22.876697Z"
    }
   },
   "outputs": [],
   "source": [
    "df3 = df.drop(*['step','nameOrig','nameDest'])\n",
    "df3 = df3.filter((df.type == 'TRANSFER') | (df.type == 'CASH_OUT') )\n",
    "\n",
    "df3 = df3.filter(df.amount<15e6)\n",
    "df3 = df3.filter(df.oldbalanceDest<5e7)\n",
    "df3 = df3.filter(df.newbalanceDest<5e7)"
   ]
  },
  {
   "cell_type": "code",
   "execution_count": 14,
   "id": "09317b3e",
   "metadata": {
    "ExecuteTime": {
     "end_time": "2023-01-23T23:09:23.174943Z",
     "start_time": "2023-01-23T23:09:22.973022Z"
    },
    "scrolled": true
   },
   "outputs": [
    {
     "data": {
      "text/html": [
       "<div>\n",
       "<style scoped>\n",
       "    .dataframe tbody tr th:only-of-type {\n",
       "        vertical-align: middle;\n",
       "    }\n",
       "\n",
       "    .dataframe tbody tr th {\n",
       "        vertical-align: top;\n",
       "    }\n",
       "\n",
       "    .dataframe thead th {\n",
       "        text-align: right;\n",
       "    }\n",
       "</style>\n",
       "<table border=\"1\" class=\"dataframe\">\n",
       "  <thead>\n",
       "    <tr style=\"text-align: right;\">\n",
       "      <th></th>\n",
       "      <th>type</th>\n",
       "      <th>amount</th>\n",
       "      <th>oldbalanceOrg</th>\n",
       "      <th>newbalanceOrig</th>\n",
       "      <th>oldbalanceDest</th>\n",
       "      <th>newbalanceDest</th>\n",
       "      <th>isFraud</th>\n",
       "    </tr>\n",
       "  </thead>\n",
       "  <tbody>\n",
       "    <tr>\n",
       "      <th>0</th>\n",
       "      <td>TRANSFER</td>\n",
       "      <td>181.00</td>\n",
       "      <td>181.0</td>\n",
       "      <td>0.0</td>\n",
       "      <td>0.0</td>\n",
       "      <td>0.00</td>\n",
       "      <td>1</td>\n",
       "    </tr>\n",
       "    <tr>\n",
       "      <th>1</th>\n",
       "      <td>CASH_OUT</td>\n",
       "      <td>181.00</td>\n",
       "      <td>181.0</td>\n",
       "      <td>0.0</td>\n",
       "      <td>21182.0</td>\n",
       "      <td>0.00</td>\n",
       "      <td>1</td>\n",
       "    </tr>\n",
       "    <tr>\n",
       "      <th>2</th>\n",
       "      <td>CASH_OUT</td>\n",
       "      <td>229133.94</td>\n",
       "      <td>15325.0</td>\n",
       "      <td>0.0</td>\n",
       "      <td>5083.0</td>\n",
       "      <td>51513.44</td>\n",
       "      <td>0</td>\n",
       "    </tr>\n",
       "    <tr>\n",
       "      <th>3</th>\n",
       "      <td>TRANSFER</td>\n",
       "      <td>215310.30</td>\n",
       "      <td>705.0</td>\n",
       "      <td>0.0</td>\n",
       "      <td>22425.0</td>\n",
       "      <td>0.00</td>\n",
       "      <td>0</td>\n",
       "    </tr>\n",
       "    <tr>\n",
       "      <th>4</th>\n",
       "      <td>TRANSFER</td>\n",
       "      <td>311685.89</td>\n",
       "      <td>10835.0</td>\n",
       "      <td>0.0</td>\n",
       "      <td>6267.0</td>\n",
       "      <td>2719172.89</td>\n",
       "      <td>0</td>\n",
       "    </tr>\n",
       "  </tbody>\n",
       "</table>\n",
       "</div>"
      ],
      "text/plain": [
       "       type     amount  oldbalanceOrg  newbalanceOrig  oldbalanceDest  \\\n",
       "0  TRANSFER     181.00          181.0             0.0             0.0   \n",
       "1  CASH_OUT     181.00          181.0             0.0         21182.0   \n",
       "2  CASH_OUT  229133.94        15325.0             0.0          5083.0   \n",
       "3  TRANSFER  215310.30          705.0             0.0         22425.0   \n",
       "4  TRANSFER  311685.89        10835.0             0.0          6267.0   \n",
       "\n",
       "   newbalanceDest  isFraud  \n",
       "0            0.00        1  \n",
       "1            0.00        1  \n",
       "2        51513.44        0  \n",
       "3            0.00        0  \n",
       "4      2719172.89        0  "
      ]
     },
     "execution_count": 14,
     "metadata": {},
     "output_type": "execute_result"
    }
   ],
   "source": [
    "df3.limit(5).toPandas()"
   ]
  },
  {
   "cell_type": "markdown",
   "id": "f573fb25",
   "metadata": {},
   "source": [
    "# 4.0 FEATURE ENGINEERING"
   ]
  },
  {
   "cell_type": "code",
   "execution_count": 15,
   "id": "38d61076",
   "metadata": {
    "ExecuteTime": {
     "end_time": "2023-01-23T23:09:23.270006Z",
     "start_time": "2023-01-23T23:09:23.180947Z"
    }
   },
   "outputs": [],
   "source": [
    "df4 = df3.withColumn('errorBalanceOrig', (df3.oldbalanceOrg - df3.amount - df3.newbalanceOrig))\n",
    "\n",
    "df4 = df4.withColumn('errorBalanceDest', (df4.oldbalanceDest + df4.amount - df4.newbalanceDest))\n",
    "\n",
    "df4 = df4.withColumn('flag', when((df.oldbalanceDest==0) & (df.newbalanceDest==0) & (df.amount !=0),1).otherwise(0))"
   ]
  },
  {
   "cell_type": "code",
   "execution_count": 16,
   "id": "137a3449",
   "metadata": {
    "ExecuteTime": {
     "end_time": "2023-01-23T23:09:23.424936Z",
     "start_time": "2023-01-23T23:09:23.273494Z"
    }
   },
   "outputs": [
    {
     "data": {
      "text/html": [
       "<div>\n",
       "<style scoped>\n",
       "    .dataframe tbody tr th:only-of-type {\n",
       "        vertical-align: middle;\n",
       "    }\n",
       "\n",
       "    .dataframe tbody tr th {\n",
       "        vertical-align: top;\n",
       "    }\n",
       "\n",
       "    .dataframe thead th {\n",
       "        text-align: right;\n",
       "    }\n",
       "</style>\n",
       "<table border=\"1\" class=\"dataframe\">\n",
       "  <thead>\n",
       "    <tr style=\"text-align: right;\">\n",
       "      <th></th>\n",
       "      <th>type</th>\n",
       "      <th>amount</th>\n",
       "      <th>oldbalanceOrg</th>\n",
       "      <th>newbalanceOrig</th>\n",
       "      <th>oldbalanceDest</th>\n",
       "      <th>newbalanceDest</th>\n",
       "      <th>isFraud</th>\n",
       "      <th>errorBalanceOrig</th>\n",
       "      <th>errorBalanceDest</th>\n",
       "      <th>flag</th>\n",
       "    </tr>\n",
       "  </thead>\n",
       "  <tbody>\n",
       "    <tr>\n",
       "      <th>0</th>\n",
       "      <td>TRANSFER</td>\n",
       "      <td>181.00</td>\n",
       "      <td>181.0</td>\n",
       "      <td>0.0</td>\n",
       "      <td>0.0</td>\n",
       "      <td>0.00</td>\n",
       "      <td>1</td>\n",
       "      <td>0.00</td>\n",
       "      <td>181.0</td>\n",
       "      <td>1</td>\n",
       "    </tr>\n",
       "    <tr>\n",
       "      <th>1</th>\n",
       "      <td>CASH_OUT</td>\n",
       "      <td>181.00</td>\n",
       "      <td>181.0</td>\n",
       "      <td>0.0</td>\n",
       "      <td>21182.0</td>\n",
       "      <td>0.00</td>\n",
       "      <td>1</td>\n",
       "      <td>0.00</td>\n",
       "      <td>21363.0</td>\n",
       "      <td>0</td>\n",
       "    </tr>\n",
       "    <tr>\n",
       "      <th>2</th>\n",
       "      <td>CASH_OUT</td>\n",
       "      <td>229133.94</td>\n",
       "      <td>15325.0</td>\n",
       "      <td>0.0</td>\n",
       "      <td>5083.0</td>\n",
       "      <td>51513.44</td>\n",
       "      <td>0</td>\n",
       "      <td>-213808.94</td>\n",
       "      <td>182703.5</td>\n",
       "      <td>0</td>\n",
       "    </tr>\n",
       "    <tr>\n",
       "      <th>3</th>\n",
       "      <td>TRANSFER</td>\n",
       "      <td>215310.30</td>\n",
       "      <td>705.0</td>\n",
       "      <td>0.0</td>\n",
       "      <td>22425.0</td>\n",
       "      <td>0.00</td>\n",
       "      <td>0</td>\n",
       "      <td>-214605.30</td>\n",
       "      <td>237735.3</td>\n",
       "      <td>0</td>\n",
       "    </tr>\n",
       "    <tr>\n",
       "      <th>4</th>\n",
       "      <td>TRANSFER</td>\n",
       "      <td>311685.89</td>\n",
       "      <td>10835.0</td>\n",
       "      <td>0.0</td>\n",
       "      <td>6267.0</td>\n",
       "      <td>2719172.89</td>\n",
       "      <td>0</td>\n",
       "      <td>-300850.89</td>\n",
       "      <td>-2401220.0</td>\n",
       "      <td>0</td>\n",
       "    </tr>\n",
       "  </tbody>\n",
       "</table>\n",
       "</div>"
      ],
      "text/plain": [
       "       type     amount  oldbalanceOrg  newbalanceOrig  oldbalanceDest  \\\n",
       "0  TRANSFER     181.00          181.0             0.0             0.0   \n",
       "1  CASH_OUT     181.00          181.0             0.0         21182.0   \n",
       "2  CASH_OUT  229133.94        15325.0             0.0          5083.0   \n",
       "3  TRANSFER  215310.30          705.0             0.0         22425.0   \n",
       "4  TRANSFER  311685.89        10835.0             0.0          6267.0   \n",
       "\n",
       "   newbalanceDest  isFraud  errorBalanceOrig  errorBalanceDest  flag  \n",
       "0            0.00        1              0.00             181.0     1  \n",
       "1            0.00        1              0.00           21363.0     0  \n",
       "2        51513.44        0        -213808.94          182703.5     0  \n",
       "3            0.00        0        -214605.30          237735.3     0  \n",
       "4      2719172.89        0        -300850.89        -2401220.0     0  "
      ]
     },
     "execution_count": 16,
     "metadata": {},
     "output_type": "execute_result"
    }
   ],
   "source": [
    "df4.limit(5).toPandas()"
   ]
  },
  {
   "cell_type": "markdown",
   "id": "1bb30d27",
   "metadata": {},
   "source": [
    "# 5.0 DATA PREPARATION"
   ]
  },
  {
   "cell_type": "code",
   "execution_count": 17,
   "id": "74bf806d",
   "metadata": {
    "ExecuteTime": {
     "end_time": "2023-01-23T23:09:27.013997Z",
     "start_time": "2023-01-23T23:09:23.427283Z"
    }
   },
   "outputs": [],
   "source": [
    "typeIndexer = StringIndexer(inputCol='type', outputCol='typeIndex')\n",
    "\n",
    "df5 = typeIndexer.fit(df4).transform(df4)\n",
    "\n",
    "one_hot_encoder = OneHotEncoder(inputCol='typeIndex', outputCol='typeOneHot')\n",
    "\n",
    "# Use the encoder to transform the indexed dataframe\n",
    "one_hot_fitted = one_hot_encoder.fit(df5)\n",
    "df5 = one_hot_fitted.transform(df5)"
   ]
  },
  {
   "cell_type": "code",
   "execution_count": 18,
   "id": "eb68758d",
   "metadata": {
    "ExecuteTime": {
     "end_time": "2023-01-23T23:09:27.451348Z",
     "start_time": "2023-01-23T23:09:27.019020Z"
    }
   },
   "outputs": [
    {
     "data": {
      "text/html": [
       "<div>\n",
       "<style scoped>\n",
       "    .dataframe tbody tr th:only-of-type {\n",
       "        vertical-align: middle;\n",
       "    }\n",
       "\n",
       "    .dataframe tbody tr th {\n",
       "        vertical-align: top;\n",
       "    }\n",
       "\n",
       "    .dataframe thead th {\n",
       "        text-align: right;\n",
       "    }\n",
       "</style>\n",
       "<table border=\"1\" class=\"dataframe\">\n",
       "  <thead>\n",
       "    <tr style=\"text-align: right;\">\n",
       "      <th></th>\n",
       "      <th>type</th>\n",
       "      <th>amount</th>\n",
       "      <th>oldbalanceOrg</th>\n",
       "      <th>newbalanceOrig</th>\n",
       "      <th>oldbalanceDest</th>\n",
       "      <th>newbalanceDest</th>\n",
       "      <th>isFraud</th>\n",
       "      <th>errorBalanceOrig</th>\n",
       "      <th>errorBalanceDest</th>\n",
       "      <th>flag</th>\n",
       "      <th>typeIndex</th>\n",
       "      <th>typeOneHot</th>\n",
       "    </tr>\n",
       "  </thead>\n",
       "  <tbody>\n",
       "    <tr>\n",
       "      <th>0</th>\n",
       "      <td>TRANSFER</td>\n",
       "      <td>181.00</td>\n",
       "      <td>181.0</td>\n",
       "      <td>0.0</td>\n",
       "      <td>0.0</td>\n",
       "      <td>0.00</td>\n",
       "      <td>1</td>\n",
       "      <td>0.00</td>\n",
       "      <td>181.0</td>\n",
       "      <td>1</td>\n",
       "      <td>1.0</td>\n",
       "      <td>(0.0)</td>\n",
       "    </tr>\n",
       "    <tr>\n",
       "      <th>1</th>\n",
       "      <td>CASH_OUT</td>\n",
       "      <td>181.00</td>\n",
       "      <td>181.0</td>\n",
       "      <td>0.0</td>\n",
       "      <td>21182.0</td>\n",
       "      <td>0.00</td>\n",
       "      <td>1</td>\n",
       "      <td>0.00</td>\n",
       "      <td>21363.0</td>\n",
       "      <td>0</td>\n",
       "      <td>0.0</td>\n",
       "      <td>(1.0)</td>\n",
       "    </tr>\n",
       "    <tr>\n",
       "      <th>2</th>\n",
       "      <td>CASH_OUT</td>\n",
       "      <td>229133.94</td>\n",
       "      <td>15325.0</td>\n",
       "      <td>0.0</td>\n",
       "      <td>5083.0</td>\n",
       "      <td>51513.44</td>\n",
       "      <td>0</td>\n",
       "      <td>-213808.94</td>\n",
       "      <td>182703.5</td>\n",
       "      <td>0</td>\n",
       "      <td>0.0</td>\n",
       "      <td>(1.0)</td>\n",
       "    </tr>\n",
       "    <tr>\n",
       "      <th>3</th>\n",
       "      <td>TRANSFER</td>\n",
       "      <td>215310.30</td>\n",
       "      <td>705.0</td>\n",
       "      <td>0.0</td>\n",
       "      <td>22425.0</td>\n",
       "      <td>0.00</td>\n",
       "      <td>0</td>\n",
       "      <td>-214605.30</td>\n",
       "      <td>237735.3</td>\n",
       "      <td>0</td>\n",
       "      <td>1.0</td>\n",
       "      <td>(0.0)</td>\n",
       "    </tr>\n",
       "    <tr>\n",
       "      <th>4</th>\n",
       "      <td>TRANSFER</td>\n",
       "      <td>311685.89</td>\n",
       "      <td>10835.0</td>\n",
       "      <td>0.0</td>\n",
       "      <td>6267.0</td>\n",
       "      <td>2719172.89</td>\n",
       "      <td>0</td>\n",
       "      <td>-300850.89</td>\n",
       "      <td>-2401220.0</td>\n",
       "      <td>0</td>\n",
       "      <td>1.0</td>\n",
       "      <td>(0.0)</td>\n",
       "    </tr>\n",
       "  </tbody>\n",
       "</table>\n",
       "</div>"
      ],
      "text/plain": [
       "       type     amount  oldbalanceOrg  newbalanceOrig  oldbalanceDest  \\\n",
       "0  TRANSFER     181.00          181.0             0.0             0.0   \n",
       "1  CASH_OUT     181.00          181.0             0.0         21182.0   \n",
       "2  CASH_OUT  229133.94        15325.0             0.0          5083.0   \n",
       "3  TRANSFER  215310.30          705.0             0.0         22425.0   \n",
       "4  TRANSFER  311685.89        10835.0             0.0          6267.0   \n",
       "\n",
       "   newbalanceDest  isFraud  errorBalanceOrig  errorBalanceDest  flag  \\\n",
       "0            0.00        1              0.00             181.0     1   \n",
       "1            0.00        1              0.00           21363.0     0   \n",
       "2        51513.44        0        -213808.94          182703.5     0   \n",
       "3            0.00        0        -214605.30          237735.3     0   \n",
       "4      2719172.89        0        -300850.89        -2401220.0     0   \n",
       "\n",
       "   typeIndex typeOneHot  \n",
       "0        1.0      (0.0)  \n",
       "1        0.0      (1.0)  \n",
       "2        0.0      (1.0)  \n",
       "3        1.0      (0.0)  \n",
       "4        1.0      (0.0)  "
      ]
     },
     "execution_count": 18,
     "metadata": {},
     "output_type": "execute_result"
    }
   ],
   "source": [
    "df5.limit(5).toPandas()"
   ]
  },
  {
   "cell_type": "code",
   "execution_count": 19,
   "id": "b3cc0f0d",
   "metadata": {
    "ExecuteTime": {
     "end_time": "2023-01-23T23:09:27.483223Z",
     "start_time": "2023-01-23T23:09:27.455401Z"
    }
   },
   "outputs": [],
   "source": [
    "df5 = df5.drop('type','typeIndex')"
   ]
  },
  {
   "cell_type": "code",
   "execution_count": 37,
   "id": "f143d6f7",
   "metadata": {
    "ExecuteTime": {
     "end_time": "2023-01-23T23:58:10.005361Z",
     "start_time": "2023-01-23T23:58:09.435738Z"
    }
   },
   "outputs": [],
   "source": [
    "train, test = df5.randomSplit([0.7,0.3],seed=42)\n",
    "\n",
    "ones = train.filter(col(\"isFraud\") == 1)\n",
    "zeros = train.filter(col(\"isFraud\") == 0)\n",
    "n = 7\n",
    "for i in range(n-1):\n",
    "    ones = ones.union(ones)"
   ]
  },
  {
   "cell_type": "code",
   "execution_count": 38,
   "id": "778f97b3",
   "metadata": {
    "ExecuteTime": {
     "end_time": "2023-01-24T00:04:09.527363Z",
     "start_time": "2023-01-23T23:58:10.835708Z"
    }
   },
   "outputs": [],
   "source": [
    "zeros_row = zeros.take(ones.count())\n",
    "zeros = spark.createDataFrame(zeros_row, zeros.schema)\n",
    "train = zeros.union(ones)"
   ]
  },
  {
   "cell_type": "code",
   "execution_count": 39,
   "id": "d9a7a69c",
   "metadata": {
    "ExecuteTime": {
     "end_time": "2023-01-24T00:04:09.542720Z",
     "start_time": "2023-01-24T00:04:09.531081Z"
    }
   },
   "outputs": [
    {
     "data": {
      "text/plain": [
       "['amount',\n",
       " 'oldbalanceOrg',\n",
       " 'newbalanceOrig',\n",
       " 'oldbalanceDest',\n",
       " 'newbalanceDest',\n",
       " 'isFraud',\n",
       " 'errorBalanceOrig',\n",
       " 'errorBalanceDest',\n",
       " 'flag',\n",
       " 'typeOneHot']"
      ]
     },
     "execution_count": 39,
     "metadata": {},
     "output_type": "execute_result"
    }
   ],
   "source": [
    "train.columns"
   ]
  },
  {
   "cell_type": "code",
   "execution_count": 40,
   "id": "627c5921",
   "metadata": {
    "ExecuteTime": {
     "end_time": "2023-01-24T00:04:09.573613Z",
     "start_time": "2023-01-24T00:04:09.546023Z"
    }
   },
   "outputs": [],
   "source": [
    "assembler = VectorAssembler(inputCols=['amount','oldbalanceOrg','newbalanceOrig','errorBalanceOrig','flag'], outputCol='features')"
   ]
  },
  {
   "cell_type": "code",
   "execution_count": 41,
   "id": "2f075221",
   "metadata": {
    "ExecuteTime": {
     "end_time": "2023-01-24T00:04:09.775284Z",
     "start_time": "2023-01-24T00:04:09.577659Z"
    }
   },
   "outputs": [],
   "source": [
    "train = assembler.transform(train)\n",
    "train = train.select(col('features'),col('isFraud'))"
   ]
  },
  {
   "cell_type": "code",
   "execution_count": 42,
   "id": "cda29626",
   "metadata": {
    "ExecuteTime": {
     "end_time": "2023-01-24T00:10:05.423711Z",
     "start_time": "2023-01-24T00:04:09.778925Z"
    }
   },
   "outputs": [],
   "source": [
    "scaler = RobustScaler(inputCol=\"features\", outputCol=\"scaledFeatures\")\n",
    "scalerFitted = scaler.fit(train)\n",
    "train = scalerFitted.transform(train)"
   ]
  },
  {
   "cell_type": "code",
   "execution_count": 43,
   "id": "9efa2539",
   "metadata": {
    "ExecuteTime": {
     "end_time": "2023-01-24T00:10:05.471018Z",
     "start_time": "2023-01-24T00:10:05.427294Z"
    }
   },
   "outputs": [],
   "source": [
    "test = assembler.transform(test)\n",
    "test = test.select(col('features'),col('isFraud'))"
   ]
  },
  {
   "cell_type": "code",
   "execution_count": 44,
   "id": "b131c9ff",
   "metadata": {
    "ExecuteTime": {
     "end_time": "2023-01-24T00:10:05.501918Z",
     "start_time": "2023-01-24T00:10:05.475538Z"
    }
   },
   "outputs": [],
   "source": [
    "test = scalerFitted.transform(test)"
   ]
  },
  {
   "cell_type": "markdown",
   "id": "004e2afb",
   "metadata": {},
   "source": [
    "# 6.0 FEATURE IMPORTANCE AND SELECTION"
   ]
  },
  {
   "cell_type": "code",
   "execution_count": 45,
   "id": "4b7f7abb",
   "metadata": {
    "ExecuteTime": {
     "end_time": "2023-01-24T00:10:13.412105Z",
     "start_time": "2023-01-24T00:10:13.390033Z"
    }
   },
   "outputs": [],
   "source": [
    "#rf = RandomForestClassifier(labelCol='isFraud')\n",
    "#model_rf = rf.fit(train)\n",
    "#importances = model_rf.featureImportances.toArray()"
   ]
  },
  {
   "cell_type": "code",
   "execution_count": 46,
   "id": "2eb482e0",
   "metadata": {
    "ExecuteTime": {
     "end_time": "2023-01-24T00:10:13.877774Z",
     "start_time": "2023-01-24T00:10:13.869736Z"
    }
   },
   "outputs": [],
   "source": [
    "#importances"
   ]
  },
  {
   "cell_type": "code",
   "execution_count": 47,
   "id": "55663d49",
   "metadata": {
    "ExecuteTime": {
     "end_time": "2023-01-24T00:10:14.594328Z",
     "start_time": "2023-01-24T00:10:14.587458Z"
    }
   },
   "outputs": [],
   "source": [
    "#importance array:\n",
    "# array([0.12499196, 0.14105052, 0.09209054, 0.01887484, 0.00766871, 0.44657804, 0.019209, 0.13068397, 0.01885243])\n",
    "#columns:['amount','oldbalanceOrg','newbalanceOrig','oldbalanceDest','newbalanceDest','errorBalanceOrig','errorBalanceDest','flag','typeOneHot']\n",
    "#chosen: ['amount','oldbalanceOrg','newbalanceOrig','errorBalanceOrig','flag']"
   ]
  },
  {
   "cell_type": "markdown",
   "id": "567961b5",
   "metadata": {},
   "source": [
    "# 7.0 MACHINE LEARNING MODELLING"
   ]
  },
  {
   "cell_type": "markdown",
   "id": "21ff8731",
   "metadata": {},
   "source": [
    "## 7.1 LOGISTIC REGRESSION"
   ]
  },
  {
   "cell_type": "code",
   "execution_count": 48,
   "id": "2eb3bdf5",
   "metadata": {
    "ExecuteTime": {
     "end_time": "2023-01-24T00:24:49.847421Z",
     "start_time": "2023-01-24T00:10:20.185039Z"
    }
   },
   "outputs": [],
   "source": [
    "lr = LogisticRegression(labelCol='isFraud')\n",
    "lrn = lr.fit(train)\n",
    "lr_pred = lrn.transform(test)\n",
    "\n",
    "lr_pred = lr_pred.withColumn(\"label\",col(\"isFraud\").cast('double'))"
   ]
  },
  {
   "cell_type": "code",
   "execution_count": 49,
   "id": "c628247f",
   "metadata": {
    "ExecuteTime": {
     "end_time": "2023-01-24T00:26:31.246410Z",
     "start_time": "2023-01-24T00:24:49.851396Z"
    }
   },
   "outputs": [],
   "source": [
    "lr_pred = lr_pred.toPandas()"
   ]
  },
  {
   "cell_type": "code",
   "execution_count": 65,
   "id": "485f1e63",
   "metadata": {
    "ExecuteTime": {
     "end_time": "2023-01-24T00:34:22.229729Z",
     "start_time": "2023-01-24T00:34:21.197770Z"
    }
   },
   "outputs": [],
   "source": [
    "#lr_pred['prediction'] = lr_pred['probability'].apply(lambda x: 1 if x[1]>0.5 else 0)"
   ]
  },
  {
   "cell_type": "code",
   "execution_count": 66,
   "id": "e0453ce4",
   "metadata": {
    "ExecuteTime": {
     "end_time": "2023-01-24T00:34:23.214841Z",
     "start_time": "2023-01-24T00:34:23.107876Z"
    }
   },
   "outputs": [
    {
     "data": {
      "text/html": [
       "<div>\n",
       "<style scoped>\n",
       "    .dataframe tbody tr th:only-of-type {\n",
       "        vertical-align: middle;\n",
       "    }\n",
       "\n",
       "    .dataframe tbody tr th {\n",
       "        vertical-align: top;\n",
       "    }\n",
       "\n",
       "    .dataframe thead th {\n",
       "        text-align: right;\n",
       "    }\n",
       "</style>\n",
       "<table border=\"1\" class=\"dataframe\">\n",
       "  <thead>\n",
       "    <tr style=\"text-align: right;\">\n",
       "      <th>prediction</th>\n",
       "      <th>0</th>\n",
       "      <th>1</th>\n",
       "    </tr>\n",
       "    <tr>\n",
       "      <th>label</th>\n",
       "      <th></th>\n",
       "      <th></th>\n",
       "    </tr>\n",
       "  </thead>\n",
       "  <tbody>\n",
       "    <tr>\n",
       "      <th>0.0</th>\n",
       "      <td>801794</td>\n",
       "      <td>25028</td>\n",
       "    </tr>\n",
       "    <tr>\n",
       "      <th>1.0</th>\n",
       "      <td>348</td>\n",
       "      <td>2105</td>\n",
       "    </tr>\n",
       "  </tbody>\n",
       "</table>\n",
       "</div>"
      ],
      "text/plain": [
       "prediction       0      1\n",
       "label                    \n",
       "0.0         801794  25028\n",
       "1.0            348   2105"
      ]
     },
     "execution_count": 66,
     "metadata": {},
     "output_type": "execute_result"
    }
   ],
   "source": [
    "pd.crosstab(lr_pred['label'],lr_pred['prediction'])"
   ]
  },
  {
   "cell_type": "code",
   "execution_count": 67,
   "id": "6480f4f1",
   "metadata": {
    "ExecuteTime": {
     "end_time": "2023-01-24T00:34:26.297625Z",
     "start_time": "2023-01-24T00:34:25.907919Z"
    }
   },
   "outputs": [
    {
     "data": {
      "text/plain": [
       "0.8581328984916429"
      ]
     },
     "execution_count": 67,
     "metadata": {},
     "output_type": "execute_result"
    }
   ],
   "source": [
    "m.recall_score(lr_pred['label'],lr_pred['prediction'])"
   ]
  },
  {
   "cell_type": "code",
   "execution_count": 68,
   "id": "c0b85b8f",
   "metadata": {
    "ExecuteTime": {
     "end_time": "2023-01-24T00:34:27.413153Z",
     "start_time": "2023-01-24T00:34:27.042191Z"
    }
   },
   "outputs": [
    {
     "data": {
      "text/plain": [
       "0.07758080566100321"
      ]
     },
     "execution_count": 68,
     "metadata": {},
     "output_type": "execute_result"
    }
   ],
   "source": [
    "m.precision_score(lr_pred['label'],lr_pred['prediction'])"
   ]
  },
  {
   "cell_type": "code",
   "execution_count": 69,
   "id": "c7839f69",
   "metadata": {
    "ExecuteTime": {
     "end_time": "2023-01-24T00:34:28.558111Z",
     "start_time": "2023-01-24T00:34:28.345270Z"
    }
   },
   "outputs": [
    {
     "data": {
      "text/plain": [
       "0.91393138994648"
      ]
     },
     "execution_count": 69,
     "metadata": {},
     "output_type": "execute_result"
    }
   ],
   "source": [
    "m.roc_auc_score(lr_pred['label'],lr_pred['prediction'])"
   ]
  },
  {
   "cell_type": "markdown",
   "id": "5da3bf4c",
   "metadata": {},
   "source": [
    "## 7.2 RANDOM FOREST"
   ]
  },
  {
   "cell_type": "code",
   "execution_count": 70,
   "id": "81cffa14",
   "metadata": {
    "ExecuteTime": {
     "end_time": "2023-01-24T01:03:44.020293Z",
     "start_time": "2023-01-24T00:39:59.669924Z"
    }
   },
   "outputs": [],
   "source": [
    "rf = RandomForestClassifier(labelCol='isFraud')\n",
    "rfn = rf.fit(train)\n",
    "rf_pred = rfn.transform(test)\n",
    "\n",
    "rf_pred = rf_pred.withColumn(\"label\",col(\"isFraud\").cast('double'))"
   ]
  },
  {
   "cell_type": "code",
   "execution_count": 71,
   "id": "cdcd9c0f",
   "metadata": {
    "ExecuteTime": {
     "end_time": "2023-01-24T01:05:14.397514Z",
     "start_time": "2023-01-24T01:03:44.020293Z"
    }
   },
   "outputs": [],
   "source": [
    "rf_pred = rf_pred.toPandas()"
   ]
  },
  {
   "cell_type": "code",
   "execution_count": 72,
   "id": "b0a86dbe",
   "metadata": {
    "ExecuteTime": {
     "end_time": "2023-01-24T01:05:15.544688Z",
     "start_time": "2023-01-24T01:05:14.397514Z"
    }
   },
   "outputs": [
    {
     "data": {
      "text/html": [
       "<div>\n",
       "<style scoped>\n",
       "    .dataframe tbody tr th:only-of-type {\n",
       "        vertical-align: middle;\n",
       "    }\n",
       "\n",
       "    .dataframe tbody tr th {\n",
       "        vertical-align: top;\n",
       "    }\n",
       "\n",
       "    .dataframe thead th {\n",
       "        text-align: right;\n",
       "    }\n",
       "</style>\n",
       "<table border=\"1\" class=\"dataframe\">\n",
       "  <thead>\n",
       "    <tr style=\"text-align: right;\">\n",
       "      <th>prediction</th>\n",
       "      <th>0.0</th>\n",
       "      <th>1.0</th>\n",
       "    </tr>\n",
       "    <tr>\n",
       "      <th>label</th>\n",
       "      <th></th>\n",
       "      <th></th>\n",
       "    </tr>\n",
       "  </thead>\n",
       "  <tbody>\n",
       "    <tr>\n",
       "      <th>0.0</th>\n",
       "      <td>826814</td>\n",
       "      <td>8</td>\n",
       "    </tr>\n",
       "    <tr>\n",
       "      <th>1.0</th>\n",
       "      <td>7</td>\n",
       "      <td>2446</td>\n",
       "    </tr>\n",
       "  </tbody>\n",
       "</table>\n",
       "</div>"
      ],
      "text/plain": [
       "prediction     0.0   1.0\n",
       "label                   \n",
       "0.0         826814     8\n",
       "1.0              7  2446"
      ]
     },
     "execution_count": 72,
     "metadata": {},
     "output_type": "execute_result"
    }
   ],
   "source": [
    "pd.crosstab(rf_pred['label'],rf_pred['prediction'])"
   ]
  },
  {
   "cell_type": "code",
   "execution_count": 73,
   "id": "5f851a63",
   "metadata": {
    "ExecuteTime": {
     "end_time": "2023-01-24T01:05:15.935611Z",
     "start_time": "2023-01-24T01:05:15.544688Z"
    }
   },
   "outputs": [
    {
     "data": {
      "text/plain": [
       "0.9971463514064411"
      ]
     },
     "execution_count": 73,
     "metadata": {},
     "output_type": "execute_result"
    }
   ],
   "source": [
    "m.recall_score(rf_pred['label'],rf_pred['prediction'])"
   ]
  },
  {
   "cell_type": "code",
   "execution_count": 74,
   "id": "07df1f72",
   "metadata": {
    "ExecuteTime": {
     "end_time": "2023-01-24T01:05:16.326387Z",
     "start_time": "2023-01-24T01:05:15.935611Z"
    }
   },
   "outputs": [
    {
     "data": {
      "text/plain": [
       "0.9967400162999185"
      ]
     },
     "execution_count": 74,
     "metadata": {},
     "output_type": "execute_result"
    }
   ],
   "source": [
    "m.precision_score(rf_pred['label'],rf_pred['prediction'])"
   ]
  },
  {
   "cell_type": "code",
   "execution_count": 75,
   "id": "6a56cbb0",
   "metadata": {
    "ExecuteTime": {
     "end_time": "2023-01-24T01:05:16.530495Z",
     "start_time": "2023-01-24T01:05:16.326387Z"
    }
   },
   "outputs": [
    {
     "data": {
      "text/plain": [
       "0.9985683379025814"
      ]
     },
     "execution_count": 75,
     "metadata": {},
     "output_type": "execute_result"
    }
   ],
   "source": [
    "m.roc_auc_score(rf_pred['label'],rf_pred['prediction'])"
   ]
  },
  {
   "cell_type": "code",
   "execution_count": null,
   "id": "568b9c7b",
   "metadata": {},
   "outputs": [],
   "source": []
  }
 ],
 "metadata": {
  "kernelspec": {
   "display_name": "Python 3 (ipykernel)",
   "language": "python",
   "name": "python3"
  },
  "language_info": {
   "codemirror_mode": {
    "name": "ipython",
    "version": 3
   },
   "file_extension": ".py",
   "mimetype": "text/x-python",
   "name": "python",
   "nbconvert_exporter": "python",
   "pygments_lexer": "ipython3",
   "version": "3.8.15"
  }
 },
 "nbformat": 4,
 "nbformat_minor": 5
}

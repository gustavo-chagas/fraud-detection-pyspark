{
 "cells": [
  {
   "cell_type": "markdown",
   "id": "cb9b0821",
   "metadata": {},
   "source": [
    "# 0.0 IMPORTS AND DATA LOADING"
   ]
  },
  {
   "cell_type": "code",
   "execution_count": 120,
   "id": "25f11375",
   "metadata": {
    "ExecuteTime": {
     "end_time": "2023-01-24T23:33:59.935682Z",
     "start_time": "2023-01-24T23:33:59.914190Z"
    }
   },
   "outputs": [],
   "source": [
    "import findspark\n",
    "import pandas as pd\n",
    "from sklearn import metrics as m\n",
    "findspark.init()\n",
    "from pyspark.sql import SparkSession \n",
    "from pyspark.sql.functions import isnan, when, count, col, sum, expr, lit\n",
    "from pyspark.ml.feature import VectorAssembler, StringIndexer, OneHotEncoder, RobustScaler\n",
    "from pyspark.ml.stat import Correlation\n",
    "from pyspark.ml.classification import LogisticRegression, RandomForestClassifier, GBTClassifier"
   ]
  },
  {
   "cell_type": "code",
   "execution_count": 4,
   "id": "df932832",
   "metadata": {
    "ExecuteTime": {
     "end_time": "2023-01-24T20:11:27.283035Z",
     "start_time": "2023-01-24T20:11:08.041868Z"
    }
   },
   "outputs": [],
   "source": [
    "spark = SparkSession.builder.getOrCreate()\n",
    "\n",
    "df = spark.read.csv('Fraud.csv',inferSchema=True,header=True)\n",
    "\n",
    "df = df.drop(df.isFlaggedFraud)"
   ]
  },
  {
   "cell_type": "markdown",
   "id": "cceb038c",
   "metadata": {},
   "source": [
    "# 1.0 DATA DESCRIPTION"
   ]
  },
  {
   "cell_type": "code",
   "execution_count": 5,
   "id": "bcdbbdfe",
   "metadata": {
    "ExecuteTime": {
     "end_time": "2023-01-24T20:11:27.298700Z",
     "start_time": "2023-01-24T20:11:27.283035Z"
    }
   },
   "outputs": [
    {
     "name": "stdout",
     "output_type": "stream",
     "text": [
      "root\n",
      " |-- step: integer (nullable = true)\n",
      " |-- type: string (nullable = true)\n",
      " |-- amount: double (nullable = true)\n",
      " |-- nameOrig: string (nullable = true)\n",
      " |-- oldbalanceOrg: double (nullable = true)\n",
      " |-- newbalanceOrig: double (nullable = true)\n",
      " |-- nameDest: string (nullable = true)\n",
      " |-- oldbalanceDest: double (nullable = true)\n",
      " |-- newbalanceDest: double (nullable = true)\n",
      " |-- isFraud: integer (nullable = true)\n",
      "\n"
     ]
    }
   ],
   "source": [
    "df.printSchema()"
   ]
  },
  {
   "cell_type": "code",
   "execution_count": 6,
   "id": "df39a0d2",
   "metadata": {
    "ExecuteTime": {
     "end_time": "2023-01-24T20:11:27.760484Z",
     "start_time": "2023-01-24T20:11:27.304027Z"
    }
   },
   "outputs": [
    {
     "name": "stdout",
     "output_type": "stream",
     "text": [
      "+----+--------+--------+-----------+-------------+--------------+-----------+--------------+--------------+-------+\n",
      "|step|    type|  amount|   nameOrig|oldbalanceOrg|newbalanceOrig|   nameDest|oldbalanceDest|newbalanceDest|isFraud|\n",
      "+----+--------+--------+-----------+-------------+--------------+-----------+--------------+--------------+-------+\n",
      "|   1| PAYMENT| 9839.64|C1231006815|     170136.0|     160296.36|M1979787155|           0.0|           0.0|      0|\n",
      "|   1| PAYMENT| 1864.28|C1666544295|      21249.0|      19384.72|M2044282225|           0.0|           0.0|      0|\n",
      "|   1|TRANSFER|   181.0|C1305486145|        181.0|           0.0| C553264065|           0.0|           0.0|      1|\n",
      "|   1|CASH_OUT|   181.0| C840083671|        181.0|           0.0|  C38997010|       21182.0|           0.0|      1|\n",
      "|   1| PAYMENT|11668.14|C2048537720|      41554.0|      29885.86|M1230701703|           0.0|           0.0|      0|\n",
      "+----+--------+--------+-----------+-------------+--------------+-----------+--------------+--------------+-------+\n",
      "only showing top 5 rows\n",
      "\n"
     ]
    }
   ],
   "source": [
    "df.show(5)"
   ]
  },
  {
   "cell_type": "code",
   "execution_count": 7,
   "id": "1368cbb0",
   "metadata": {
    "ExecuteTime": {
     "end_time": "2023-01-24T20:11:30.499991Z",
     "start_time": "2023-01-24T20:11:27.764548Z"
    }
   },
   "outputs": [
    {
     "name": "stdout",
     "output_type": "stream",
     "text": [
      "6362620\n",
      "10\n"
     ]
    }
   ],
   "source": [
    "print(df.count())\n",
    "print(len(df.columns))"
   ]
  },
  {
   "cell_type": "code",
   "execution_count": 8,
   "id": "631ffbc0",
   "metadata": {
    "ExecuteTime": {
     "end_time": "2023-01-24T20:11:46.535556Z",
     "start_time": "2023-01-24T20:11:30.503990Z"
    }
   },
   "outputs": [
    {
     "name": "stdout",
     "output_type": "stream",
     "text": [
      "+----+----+------+--------+-------------+--------------+--------+--------------+--------------+-------+\n",
      "|step|type|amount|nameOrig|oldbalanceOrg|newbalanceOrig|nameDest|oldbalanceDest|newbalanceDest|isFraud|\n",
      "+----+----+------+--------+-------------+--------------+--------+--------------+--------------+-------+\n",
      "|   0|   0|     0|       0|            0|             0|       0|             0|             0|      0|\n",
      "+----+----+------+--------+-------------+--------------+--------+--------------+--------------+-------+\n",
      "\n"
     ]
    }
   ],
   "source": [
    "df.select([count(when(isnan(c) | col(c).isNull(), c)).alias(c) for c in df.columns]).show()"
   ]
  },
  {
   "cell_type": "code",
   "execution_count": 9,
   "id": "7eeaff42",
   "metadata": {
    "ExecuteTime": {
     "end_time": "2023-01-24T20:12:36.611530Z",
     "start_time": "2023-01-24T20:11:46.539561Z"
    }
   },
   "outputs": [
    {
     "data": {
      "text/html": [
       "<div>\n",
       "<style scoped>\n",
       "    .dataframe tbody tr th:only-of-type {\n",
       "        vertical-align: middle;\n",
       "    }\n",
       "\n",
       "    .dataframe tbody tr th {\n",
       "        vertical-align: top;\n",
       "    }\n",
       "\n",
       "    .dataframe thead th {\n",
       "        text-align: right;\n",
       "    }\n",
       "</style>\n",
       "<table border=\"1\" class=\"dataframe\">\n",
       "  <thead>\n",
       "    <tr style=\"text-align: right;\">\n",
       "      <th></th>\n",
       "      <th>summary</th>\n",
       "      <th>step</th>\n",
       "      <th>type</th>\n",
       "      <th>amount</th>\n",
       "      <th>nameOrig</th>\n",
       "      <th>oldbalanceOrg</th>\n",
       "      <th>newbalanceOrig</th>\n",
       "      <th>nameDest</th>\n",
       "      <th>oldbalanceDest</th>\n",
       "      <th>newbalanceDest</th>\n",
       "      <th>isFraud</th>\n",
       "    </tr>\n",
       "  </thead>\n",
       "  <tbody>\n",
       "    <tr>\n",
       "      <th>0</th>\n",
       "      <td>count</td>\n",
       "      <td>6362620</td>\n",
       "      <td>6362620</td>\n",
       "      <td>6362620</td>\n",
       "      <td>6362620</td>\n",
       "      <td>6362620</td>\n",
       "      <td>6362620</td>\n",
       "      <td>6362620</td>\n",
       "      <td>6362620</td>\n",
       "      <td>6362620</td>\n",
       "      <td>6362620</td>\n",
       "    </tr>\n",
       "    <tr>\n",
       "      <th>1</th>\n",
       "      <td>mean</td>\n",
       "      <td>243.39724563151657</td>\n",
       "      <td>None</td>\n",
       "      <td>179861.90354913048</td>\n",
       "      <td>None</td>\n",
       "      <td>833883.1040744851</td>\n",
       "      <td>855113.6685785787</td>\n",
       "      <td>None</td>\n",
       "      <td>1100701.6665196505</td>\n",
       "      <td>1224996.3982019336</td>\n",
       "      <td>0.001290820448180152</td>\n",
       "    </tr>\n",
       "    <tr>\n",
       "      <th>2</th>\n",
       "      <td>stddev</td>\n",
       "      <td>142.3319710491305</td>\n",
       "      <td>None</td>\n",
       "      <td>603858.2314629437</td>\n",
       "      <td>None</td>\n",
       "      <td>2888242.6730375397</td>\n",
       "      <td>2924048.502954241</td>\n",
       "      <td>None</td>\n",
       "      <td>3399180.1129944543</td>\n",
       "      <td>3674128.9421196654</td>\n",
       "      <td>0.03590479680160438</td>\n",
       "    </tr>\n",
       "    <tr>\n",
       "      <th>3</th>\n",
       "      <td>min</td>\n",
       "      <td>1</td>\n",
       "      <td>CASH_IN</td>\n",
       "      <td>0.0</td>\n",
       "      <td>C1000000639</td>\n",
       "      <td>0.0</td>\n",
       "      <td>0.0</td>\n",
       "      <td>C1000004082</td>\n",
       "      <td>0.0</td>\n",
       "      <td>0.0</td>\n",
       "      <td>0</td>\n",
       "    </tr>\n",
       "    <tr>\n",
       "      <th>4</th>\n",
       "      <td>25%</td>\n",
       "      <td>156</td>\n",
       "      <td>None</td>\n",
       "      <td>13390.35</td>\n",
       "      <td>None</td>\n",
       "      <td>0.0</td>\n",
       "      <td>0.0</td>\n",
       "      <td>None</td>\n",
       "      <td>0.0</td>\n",
       "      <td>0.0</td>\n",
       "      <td>0</td>\n",
       "    </tr>\n",
       "    <tr>\n",
       "      <th>5</th>\n",
       "      <td>50%</td>\n",
       "      <td>239</td>\n",
       "      <td>None</td>\n",
       "      <td>74864.38</td>\n",
       "      <td>None</td>\n",
       "      <td>14211.23</td>\n",
       "      <td>0.0</td>\n",
       "      <td>None</td>\n",
       "      <td>132623.66</td>\n",
       "      <td>214605.81</td>\n",
       "      <td>0</td>\n",
       "    </tr>\n",
       "    <tr>\n",
       "      <th>6</th>\n",
       "      <td>75%</td>\n",
       "      <td>335</td>\n",
       "      <td>None</td>\n",
       "      <td>208722.05</td>\n",
       "      <td>None</td>\n",
       "      <td>107294.0</td>\n",
       "      <td>144232.62</td>\n",
       "      <td>None</td>\n",
       "      <td>942942.08</td>\n",
       "      <td>1111684.56</td>\n",
       "      <td>0</td>\n",
       "    </tr>\n",
       "    <tr>\n",
       "      <th>7</th>\n",
       "      <td>max</td>\n",
       "      <td>743</td>\n",
       "      <td>TRANSFER</td>\n",
       "      <td>9.244551664E7</td>\n",
       "      <td>C999999784</td>\n",
       "      <td>5.958504037E7</td>\n",
       "      <td>4.958504037E7</td>\n",
       "      <td>M999999784</td>\n",
       "      <td>3.5601588935E8</td>\n",
       "      <td>3.5617927892E8</td>\n",
       "      <td>1</td>\n",
       "    </tr>\n",
       "  </tbody>\n",
       "</table>\n",
       "</div>"
      ],
      "text/plain": [
       "  summary                step      type              amount     nameOrig  \\\n",
       "0   count             6362620   6362620             6362620      6362620   \n",
       "1    mean  243.39724563151657      None  179861.90354913048         None   \n",
       "2  stddev   142.3319710491305      None   603858.2314629437         None   \n",
       "3     min                   1   CASH_IN                 0.0  C1000000639   \n",
       "4     25%                 156      None            13390.35         None   \n",
       "5     50%                 239      None            74864.38         None   \n",
       "6     75%                 335      None           208722.05         None   \n",
       "7     max                 743  TRANSFER       9.244551664E7   C999999784   \n",
       "\n",
       "        oldbalanceOrg     newbalanceOrig     nameDest      oldbalanceDest  \\\n",
       "0             6362620            6362620      6362620             6362620   \n",
       "1   833883.1040744851  855113.6685785787         None  1100701.6665196505   \n",
       "2  2888242.6730375397  2924048.502954241         None  3399180.1129944543   \n",
       "3                 0.0                0.0  C1000004082                 0.0   \n",
       "4                 0.0                0.0         None                 0.0   \n",
       "5            14211.23                0.0         None           132623.66   \n",
       "6            107294.0          144232.62         None           942942.08   \n",
       "7       5.958504037E7      4.958504037E7   M999999784      3.5601588935E8   \n",
       "\n",
       "       newbalanceDest               isFraud  \n",
       "0             6362620               6362620  \n",
       "1  1224996.3982019336  0.001290820448180152  \n",
       "2  3674128.9421196654   0.03590479680160438  \n",
       "3                 0.0                     0  \n",
       "4                 0.0                     0  \n",
       "5           214605.81                     0  \n",
       "6          1111684.56                     0  \n",
       "7      3.5617927892E8                     1  "
      ]
     },
     "execution_count": 9,
     "metadata": {},
     "output_type": "execute_result"
    }
   ],
   "source": [
    "df.summary().toPandas()"
   ]
  },
  {
   "cell_type": "markdown",
   "id": "a195435c",
   "metadata": {},
   "source": [
    "# 2.0 EXPLORATORY DATA ANALYSIS"
   ]
  },
  {
   "cell_type": "code",
   "execution_count": 10,
   "id": "7eda1696",
   "metadata": {
    "ExecuteTime": {
     "end_time": "2023-01-24T20:12:39.777752Z",
     "start_time": "2023-01-24T20:12:36.615677Z"
    }
   },
   "outputs": [
    {
     "name": "stdout",
     "output_type": "stream",
     "text": [
      "+-------+-------+\n",
      "|isFraud|  count|\n",
      "+-------+-------+\n",
      "|      1|   8213|\n",
      "|      0|6354407|\n",
      "+-------+-------+\n",
      "\n"
     ]
    }
   ],
   "source": [
    "df.groupBy('isFraud').count().show()"
   ]
  },
  {
   "cell_type": "code",
   "execution_count": 11,
   "id": "c073d2b5",
   "metadata": {
    "ExecuteTime": {
     "end_time": "2023-01-24T20:12:43.007628Z",
     "start_time": "2023-01-24T20:12:39.782750Z"
    },
    "scrolled": true
   },
   "outputs": [
    {
     "name": "stdout",
     "output_type": "stream",
     "text": [
      "+--------+------------+\n",
      "|    type|sum(isFraud)|\n",
      "+--------+------------+\n",
      "|TRANSFER|        4097|\n",
      "| CASH_IN|           0|\n",
      "|CASH_OUT|        4116|\n",
      "| PAYMENT|           0|\n",
      "|   DEBIT|           0|\n",
      "+--------+------------+\n",
      "\n"
     ]
    }
   ],
   "source": [
    "df.groupBy('type').sum('isFraud').show()"
   ]
  },
  {
   "cell_type": "code",
   "execution_count": 12,
   "id": "99d09108",
   "metadata": {
    "ExecuteTime": {
     "end_time": "2023-01-24T20:12:46.121580Z",
     "start_time": "2023-01-24T20:12:43.016539Z"
    }
   },
   "outputs": [
    {
     "name": "stdout",
     "output_type": "stream",
     "text": [
      "+--------+-------+\n",
      "|    type|  count|\n",
      "+--------+-------+\n",
      "|TRANSFER| 532909|\n",
      "| CASH_IN|1399284|\n",
      "|CASH_OUT|2237500|\n",
      "| PAYMENT|2151495|\n",
      "|   DEBIT|  41432|\n",
      "+--------+-------+\n",
      "\n"
     ]
    }
   ],
   "source": [
    "df.groupBy('type').count().show()"
   ]
  },
  {
   "cell_type": "code",
   "execution_count": 60,
   "id": "bb838346",
   "metadata": {
    "ExecuteTime": {
     "end_time": "2023-01-24T21:07:08.925389Z",
     "start_time": "2023-01-24T21:07:04.984993Z"
    }
   },
   "outputs": [
    {
     "data": {
      "text/plain": [
       "0.4955558261293072"
      ]
     },
     "execution_count": 60,
     "metadata": {},
     "output_type": "execute_result"
    }
   ],
   "source": [
    "(df.filter((df.isFraud==1) & (df.oldbalanceDest==0) & (df.newbalanceDest==0) & (df.amount!=0)).count())/(df.filter(df.isFraud==1).count())"
   ]
  },
  {
   "cell_type": "code",
   "execution_count": 61,
   "id": "03df72cf",
   "metadata": {
    "ExecuteTime": {
     "end_time": "2023-01-24T21:07:13.207429Z",
     "start_time": "2023-01-24T21:07:08.930392Z"
    }
   },
   "outputs": [
    {
     "data": {
      "text/plain": [
       "0.36403176567065976"
      ]
     },
     "execution_count": 61,
     "metadata": {},
     "output_type": "execute_result"
    }
   ],
   "source": [
    "(df.filter((df.isFraud==0) & (df.oldbalanceDest==0) & (df.newbalanceDest==0) & (df.amount!=0)).count())/(df.filter(df.isFraud==0).count())"
   ]
  },
  {
   "cell_type": "markdown",
   "id": "e95e8a17",
   "metadata": {},
   "source": [
    "# 3.0 FILTERING DATA"
   ]
  },
  {
   "cell_type": "code",
   "execution_count": 62,
   "id": "185699f5",
   "metadata": {
    "ExecuteTime": {
     "end_time": "2023-01-24T21:07:35.346545Z",
     "start_time": "2023-01-24T21:07:35.272480Z"
    }
   },
   "outputs": [],
   "source": [
    "df3 = df.drop(*['step','nameOrig','nameDest'])\n",
    "df3 = df3.filter((df.type == 'TRANSFER') | (df.type == 'CASH_OUT') )\n",
    "\n",
    "df3 = df3.filter(df.amount<20e6)\n",
    "df3 = df3.filter(df.oldbalanceDest<5e7)\n",
    "df3 = df3.filter(df.newbalanceDest<5e7)"
   ]
  },
  {
   "cell_type": "code",
   "execution_count": 63,
   "id": "09317b3e",
   "metadata": {
    "ExecuteTime": {
     "end_time": "2023-01-24T21:07:35.860789Z",
     "start_time": "2023-01-24T21:07:35.712580Z"
    },
    "scrolled": true
   },
   "outputs": [
    {
     "data": {
      "text/html": [
       "<div>\n",
       "<style scoped>\n",
       "    .dataframe tbody tr th:only-of-type {\n",
       "        vertical-align: middle;\n",
       "    }\n",
       "\n",
       "    .dataframe tbody tr th {\n",
       "        vertical-align: top;\n",
       "    }\n",
       "\n",
       "    .dataframe thead th {\n",
       "        text-align: right;\n",
       "    }\n",
       "</style>\n",
       "<table border=\"1\" class=\"dataframe\">\n",
       "  <thead>\n",
       "    <tr style=\"text-align: right;\">\n",
       "      <th></th>\n",
       "      <th>type</th>\n",
       "      <th>amount</th>\n",
       "      <th>oldbalanceOrg</th>\n",
       "      <th>newbalanceOrig</th>\n",
       "      <th>oldbalanceDest</th>\n",
       "      <th>newbalanceDest</th>\n",
       "      <th>isFraud</th>\n",
       "    </tr>\n",
       "  </thead>\n",
       "  <tbody>\n",
       "    <tr>\n",
       "      <th>0</th>\n",
       "      <td>TRANSFER</td>\n",
       "      <td>181.00</td>\n",
       "      <td>181.0</td>\n",
       "      <td>0.0</td>\n",
       "      <td>0.0</td>\n",
       "      <td>0.00</td>\n",
       "      <td>1</td>\n",
       "    </tr>\n",
       "    <tr>\n",
       "      <th>1</th>\n",
       "      <td>CASH_OUT</td>\n",
       "      <td>181.00</td>\n",
       "      <td>181.0</td>\n",
       "      <td>0.0</td>\n",
       "      <td>21182.0</td>\n",
       "      <td>0.00</td>\n",
       "      <td>1</td>\n",
       "    </tr>\n",
       "    <tr>\n",
       "      <th>2</th>\n",
       "      <td>CASH_OUT</td>\n",
       "      <td>229133.94</td>\n",
       "      <td>15325.0</td>\n",
       "      <td>0.0</td>\n",
       "      <td>5083.0</td>\n",
       "      <td>51513.44</td>\n",
       "      <td>0</td>\n",
       "    </tr>\n",
       "    <tr>\n",
       "      <th>3</th>\n",
       "      <td>TRANSFER</td>\n",
       "      <td>215310.30</td>\n",
       "      <td>705.0</td>\n",
       "      <td>0.0</td>\n",
       "      <td>22425.0</td>\n",
       "      <td>0.00</td>\n",
       "      <td>0</td>\n",
       "    </tr>\n",
       "    <tr>\n",
       "      <th>4</th>\n",
       "      <td>TRANSFER</td>\n",
       "      <td>311685.89</td>\n",
       "      <td>10835.0</td>\n",
       "      <td>0.0</td>\n",
       "      <td>6267.0</td>\n",
       "      <td>2719172.89</td>\n",
       "      <td>0</td>\n",
       "    </tr>\n",
       "  </tbody>\n",
       "</table>\n",
       "</div>"
      ],
      "text/plain": [
       "       type     amount  oldbalanceOrg  newbalanceOrig  oldbalanceDest  \\\n",
       "0  TRANSFER     181.00          181.0             0.0             0.0   \n",
       "1  CASH_OUT     181.00          181.0             0.0         21182.0   \n",
       "2  CASH_OUT  229133.94        15325.0             0.0          5083.0   \n",
       "3  TRANSFER  215310.30          705.0             0.0         22425.0   \n",
       "4  TRANSFER  311685.89        10835.0             0.0          6267.0   \n",
       "\n",
       "   newbalanceDest  isFraud  \n",
       "0            0.00        1  \n",
       "1            0.00        1  \n",
       "2        51513.44        0  \n",
       "3            0.00        0  \n",
       "4      2719172.89        0  "
      ]
     },
     "execution_count": 63,
     "metadata": {},
     "output_type": "execute_result"
    }
   ],
   "source": [
    "df3.limit(5).toPandas()"
   ]
  },
  {
   "cell_type": "markdown",
   "id": "f573fb25",
   "metadata": {},
   "source": [
    "# 4.0 FEATURE ENGINEERING"
   ]
  },
  {
   "cell_type": "code",
   "execution_count": 64,
   "id": "38d61076",
   "metadata": {
    "ExecuteTime": {
     "end_time": "2023-01-24T21:07:38.220743Z",
     "start_time": "2023-01-24T21:07:38.160995Z"
    }
   },
   "outputs": [],
   "source": [
    "df4 = df3.withColumn('errorBalanceOrig', (df3.oldbalanceOrg - df3.amount - df3.newbalanceOrig))\n",
    "\n",
    "df4 = df4.withColumn('errorBalanceDest', (df4.oldbalanceDest + df4.amount - df4.newbalanceDest))\n",
    "\n",
    "df4 = df4.withColumn('flag', when((df.oldbalanceDest==0) & (df.newbalanceDest==0) & (df.amount !=0),1).otherwise(0))"
   ]
  },
  {
   "cell_type": "code",
   "execution_count": 65,
   "id": "137a3449",
   "metadata": {
    "ExecuteTime": {
     "end_time": "2023-01-24T21:07:38.895722Z",
     "start_time": "2023-01-24T21:07:38.784825Z"
    }
   },
   "outputs": [
    {
     "data": {
      "text/html": [
       "<div>\n",
       "<style scoped>\n",
       "    .dataframe tbody tr th:only-of-type {\n",
       "        vertical-align: middle;\n",
       "    }\n",
       "\n",
       "    .dataframe tbody tr th {\n",
       "        vertical-align: top;\n",
       "    }\n",
       "\n",
       "    .dataframe thead th {\n",
       "        text-align: right;\n",
       "    }\n",
       "</style>\n",
       "<table border=\"1\" class=\"dataframe\">\n",
       "  <thead>\n",
       "    <tr style=\"text-align: right;\">\n",
       "      <th></th>\n",
       "      <th>type</th>\n",
       "      <th>amount</th>\n",
       "      <th>oldbalanceOrg</th>\n",
       "      <th>newbalanceOrig</th>\n",
       "      <th>oldbalanceDest</th>\n",
       "      <th>newbalanceDest</th>\n",
       "      <th>isFraud</th>\n",
       "      <th>errorBalanceOrig</th>\n",
       "      <th>errorBalanceDest</th>\n",
       "      <th>flag</th>\n",
       "    </tr>\n",
       "  </thead>\n",
       "  <tbody>\n",
       "    <tr>\n",
       "      <th>0</th>\n",
       "      <td>TRANSFER</td>\n",
       "      <td>181.00</td>\n",
       "      <td>181.0</td>\n",
       "      <td>0.0</td>\n",
       "      <td>0.0</td>\n",
       "      <td>0.00</td>\n",
       "      <td>1</td>\n",
       "      <td>0.00</td>\n",
       "      <td>181.0</td>\n",
       "      <td>1</td>\n",
       "    </tr>\n",
       "    <tr>\n",
       "      <th>1</th>\n",
       "      <td>CASH_OUT</td>\n",
       "      <td>181.00</td>\n",
       "      <td>181.0</td>\n",
       "      <td>0.0</td>\n",
       "      <td>21182.0</td>\n",
       "      <td>0.00</td>\n",
       "      <td>1</td>\n",
       "      <td>0.00</td>\n",
       "      <td>21363.0</td>\n",
       "      <td>0</td>\n",
       "    </tr>\n",
       "    <tr>\n",
       "      <th>2</th>\n",
       "      <td>CASH_OUT</td>\n",
       "      <td>229133.94</td>\n",
       "      <td>15325.0</td>\n",
       "      <td>0.0</td>\n",
       "      <td>5083.0</td>\n",
       "      <td>51513.44</td>\n",
       "      <td>0</td>\n",
       "      <td>-213808.94</td>\n",
       "      <td>182703.5</td>\n",
       "      <td>0</td>\n",
       "    </tr>\n",
       "    <tr>\n",
       "      <th>3</th>\n",
       "      <td>TRANSFER</td>\n",
       "      <td>215310.30</td>\n",
       "      <td>705.0</td>\n",
       "      <td>0.0</td>\n",
       "      <td>22425.0</td>\n",
       "      <td>0.00</td>\n",
       "      <td>0</td>\n",
       "      <td>-214605.30</td>\n",
       "      <td>237735.3</td>\n",
       "      <td>0</td>\n",
       "    </tr>\n",
       "    <tr>\n",
       "      <th>4</th>\n",
       "      <td>TRANSFER</td>\n",
       "      <td>311685.89</td>\n",
       "      <td>10835.0</td>\n",
       "      <td>0.0</td>\n",
       "      <td>6267.0</td>\n",
       "      <td>2719172.89</td>\n",
       "      <td>0</td>\n",
       "      <td>-300850.89</td>\n",
       "      <td>-2401220.0</td>\n",
       "      <td>0</td>\n",
       "    </tr>\n",
       "  </tbody>\n",
       "</table>\n",
       "</div>"
      ],
      "text/plain": [
       "       type     amount  oldbalanceOrg  newbalanceOrig  oldbalanceDest  \\\n",
       "0  TRANSFER     181.00          181.0             0.0             0.0   \n",
       "1  CASH_OUT     181.00          181.0             0.0         21182.0   \n",
       "2  CASH_OUT  229133.94        15325.0             0.0          5083.0   \n",
       "3  TRANSFER  215310.30          705.0             0.0         22425.0   \n",
       "4  TRANSFER  311685.89        10835.0             0.0          6267.0   \n",
       "\n",
       "   newbalanceDest  isFraud  errorBalanceOrig  errorBalanceDest  flag  \n",
       "0            0.00        1              0.00             181.0     1  \n",
       "1            0.00        1              0.00           21363.0     0  \n",
       "2        51513.44        0        -213808.94          182703.5     0  \n",
       "3            0.00        0        -214605.30          237735.3     0  \n",
       "4      2719172.89        0        -300850.89        -2401220.0     0  "
      ]
     },
     "execution_count": 65,
     "metadata": {},
     "output_type": "execute_result"
    }
   ],
   "source": [
    "df4.limit(5).toPandas()"
   ]
  },
  {
   "cell_type": "markdown",
   "id": "1bb30d27",
   "metadata": {},
   "source": [
    "# 5.0 DATA PREPARATION"
   ]
  },
  {
   "cell_type": "code",
   "execution_count": 66,
   "id": "74bf806d",
   "metadata": {
    "ExecuteTime": {
     "end_time": "2023-01-24T21:07:43.804690Z",
     "start_time": "2023-01-24T21:07:40.964543Z"
    }
   },
   "outputs": [],
   "source": [
    "typeIndexer = StringIndexer(inputCol='type', outputCol='typeIndex')\n",
    "\n",
    "df5 = typeIndexer.fit(df4).transform(df4)\n",
    "\n",
    "one_hot_encoder = OneHotEncoder(inputCol='typeIndex', outputCol='typeOneHot')\n",
    "\n",
    "# Use the encoder to transform the indexed dataframe\n",
    "one_hot_fitted = one_hot_encoder.fit(df5)\n",
    "df5 = one_hot_fitted.transform(df5)"
   ]
  },
  {
   "cell_type": "code",
   "execution_count": 67,
   "id": "eb68758d",
   "metadata": {
    "ExecuteTime": {
     "end_time": "2023-01-24T21:07:44.541775Z",
     "start_time": "2023-01-24T21:07:44.369193Z"
    }
   },
   "outputs": [
    {
     "data": {
      "text/html": [
       "<div>\n",
       "<style scoped>\n",
       "    .dataframe tbody tr th:only-of-type {\n",
       "        vertical-align: middle;\n",
       "    }\n",
       "\n",
       "    .dataframe tbody tr th {\n",
       "        vertical-align: top;\n",
       "    }\n",
       "\n",
       "    .dataframe thead th {\n",
       "        text-align: right;\n",
       "    }\n",
       "</style>\n",
       "<table border=\"1\" class=\"dataframe\">\n",
       "  <thead>\n",
       "    <tr style=\"text-align: right;\">\n",
       "      <th></th>\n",
       "      <th>type</th>\n",
       "      <th>amount</th>\n",
       "      <th>oldbalanceOrg</th>\n",
       "      <th>newbalanceOrig</th>\n",
       "      <th>oldbalanceDest</th>\n",
       "      <th>newbalanceDest</th>\n",
       "      <th>isFraud</th>\n",
       "      <th>errorBalanceOrig</th>\n",
       "      <th>errorBalanceDest</th>\n",
       "      <th>flag</th>\n",
       "      <th>typeIndex</th>\n",
       "      <th>typeOneHot</th>\n",
       "    </tr>\n",
       "  </thead>\n",
       "  <tbody>\n",
       "    <tr>\n",
       "      <th>0</th>\n",
       "      <td>TRANSFER</td>\n",
       "      <td>181.00</td>\n",
       "      <td>181.0</td>\n",
       "      <td>0.0</td>\n",
       "      <td>0.0</td>\n",
       "      <td>0.00</td>\n",
       "      <td>1</td>\n",
       "      <td>0.00</td>\n",
       "      <td>181.0</td>\n",
       "      <td>1</td>\n",
       "      <td>1.0</td>\n",
       "      <td>(0.0)</td>\n",
       "    </tr>\n",
       "    <tr>\n",
       "      <th>1</th>\n",
       "      <td>CASH_OUT</td>\n",
       "      <td>181.00</td>\n",
       "      <td>181.0</td>\n",
       "      <td>0.0</td>\n",
       "      <td>21182.0</td>\n",
       "      <td>0.00</td>\n",
       "      <td>1</td>\n",
       "      <td>0.00</td>\n",
       "      <td>21363.0</td>\n",
       "      <td>0</td>\n",
       "      <td>0.0</td>\n",
       "      <td>(1.0)</td>\n",
       "    </tr>\n",
       "    <tr>\n",
       "      <th>2</th>\n",
       "      <td>CASH_OUT</td>\n",
       "      <td>229133.94</td>\n",
       "      <td>15325.0</td>\n",
       "      <td>0.0</td>\n",
       "      <td>5083.0</td>\n",
       "      <td>51513.44</td>\n",
       "      <td>0</td>\n",
       "      <td>-213808.94</td>\n",
       "      <td>182703.5</td>\n",
       "      <td>0</td>\n",
       "      <td>0.0</td>\n",
       "      <td>(1.0)</td>\n",
       "    </tr>\n",
       "    <tr>\n",
       "      <th>3</th>\n",
       "      <td>TRANSFER</td>\n",
       "      <td>215310.30</td>\n",
       "      <td>705.0</td>\n",
       "      <td>0.0</td>\n",
       "      <td>22425.0</td>\n",
       "      <td>0.00</td>\n",
       "      <td>0</td>\n",
       "      <td>-214605.30</td>\n",
       "      <td>237735.3</td>\n",
       "      <td>0</td>\n",
       "      <td>1.0</td>\n",
       "      <td>(0.0)</td>\n",
       "    </tr>\n",
       "    <tr>\n",
       "      <th>4</th>\n",
       "      <td>TRANSFER</td>\n",
       "      <td>311685.89</td>\n",
       "      <td>10835.0</td>\n",
       "      <td>0.0</td>\n",
       "      <td>6267.0</td>\n",
       "      <td>2719172.89</td>\n",
       "      <td>0</td>\n",
       "      <td>-300850.89</td>\n",
       "      <td>-2401220.0</td>\n",
       "      <td>0</td>\n",
       "      <td>1.0</td>\n",
       "      <td>(0.0)</td>\n",
       "    </tr>\n",
       "  </tbody>\n",
       "</table>\n",
       "</div>"
      ],
      "text/plain": [
       "       type     amount  oldbalanceOrg  newbalanceOrig  oldbalanceDest  \\\n",
       "0  TRANSFER     181.00          181.0             0.0             0.0   \n",
       "1  CASH_OUT     181.00          181.0             0.0         21182.0   \n",
       "2  CASH_OUT  229133.94        15325.0             0.0          5083.0   \n",
       "3  TRANSFER  215310.30          705.0             0.0         22425.0   \n",
       "4  TRANSFER  311685.89        10835.0             0.0          6267.0   \n",
       "\n",
       "   newbalanceDest  isFraud  errorBalanceOrig  errorBalanceDest  flag  \\\n",
       "0            0.00        1              0.00             181.0     1   \n",
       "1            0.00        1              0.00           21363.0     0   \n",
       "2        51513.44        0        -213808.94          182703.5     0   \n",
       "3            0.00        0        -214605.30          237735.3     0   \n",
       "4      2719172.89        0        -300850.89        -2401220.0     0   \n",
       "\n",
       "   typeIndex typeOneHot  \n",
       "0        1.0      (0.0)  \n",
       "1        0.0      (1.0)  \n",
       "2        0.0      (1.0)  \n",
       "3        1.0      (0.0)  \n",
       "4        1.0      (0.0)  "
      ]
     },
     "execution_count": 67,
     "metadata": {},
     "output_type": "execute_result"
    }
   ],
   "source": [
    "df5.limit(5).toPandas()"
   ]
  },
  {
   "cell_type": "code",
   "execution_count": 68,
   "id": "b3cc0f0d",
   "metadata": {
    "ExecuteTime": {
     "end_time": "2023-01-24T21:07:45.108408Z",
     "start_time": "2023-01-24T21:07:45.093085Z"
    }
   },
   "outputs": [],
   "source": [
    "df5 = df5.drop('type','typeIndex')"
   ]
  },
  {
   "cell_type": "code",
   "execution_count": 93,
   "id": "f143d6f7",
   "metadata": {
    "ExecuteTime": {
     "end_time": "2023-01-24T21:43:10.986796Z",
     "start_time": "2023-01-24T21:43:10.400372Z"
    }
   },
   "outputs": [],
   "source": [
    "train, test = df5.randomSplit([0.7,0.3],seed=42)\n",
    "\n",
    "ones = train.filter(col(\"isFraud\") == 1)\n",
    "zeros = train.filter(col(\"isFraud\") == 0)\n",
    "n = 7\n",
    "for i in range(n-1):\n",
    "    ones = ones.union(ones)"
   ]
  },
  {
   "cell_type": "code",
   "execution_count": 94,
   "id": "778f97b3",
   "metadata": {
    "ExecuteTime": {
     "end_time": "2023-01-24T21:50:09.916526Z",
     "start_time": "2023-01-24T21:43:10.992794Z"
    }
   },
   "outputs": [],
   "source": [
    "zeros_row = zeros.take(ones.count())\n",
    "zeros = spark.createDataFrame(zeros_row, zeros.schema)\n",
    "train = zeros.union(ones)"
   ]
  },
  {
   "cell_type": "code",
   "execution_count": 95,
   "id": "d9a7a69c",
   "metadata": {
    "ExecuteTime": {
     "end_time": "2023-01-24T21:50:09.932008Z",
     "start_time": "2023-01-24T21:50:09.921432Z"
    }
   },
   "outputs": [
    {
     "data": {
      "text/plain": [
       "['amount',\n",
       " 'oldbalanceOrg',\n",
       " 'newbalanceOrig',\n",
       " 'oldbalanceDest',\n",
       " 'newbalanceDest',\n",
       " 'isFraud',\n",
       " 'errorBalanceOrig',\n",
       " 'errorBalanceDest',\n",
       " 'flag',\n",
       " 'typeOneHot']"
      ]
     },
     "execution_count": 95,
     "metadata": {},
     "output_type": "execute_result"
    }
   ],
   "source": [
    "train.columns"
   ]
  },
  {
   "cell_type": "code",
   "execution_count": 96,
   "id": "627c5921",
   "metadata": {
    "ExecuteTime": {
     "end_time": "2023-01-24T21:50:09.993924Z",
     "start_time": "2023-01-24T21:50:09.938006Z"
    }
   },
   "outputs": [],
   "source": [
    "assembler = VectorAssembler(inputCols=['amount','oldbalanceOrg','newbalanceOrig','errorBalanceOrig','flag'], outputCol='features')"
   ]
  },
  {
   "cell_type": "code",
   "execution_count": 97,
   "id": "2f075221",
   "metadata": {
    "ExecuteTime": {
     "end_time": "2023-01-24T21:50:10.372129Z",
     "start_time": "2023-01-24T21:50:10.001443Z"
    }
   },
   "outputs": [],
   "source": [
    "train = assembler.transform(train)\n",
    "train = train.select(col('features'),col('isFraud'))"
   ]
  },
  {
   "cell_type": "code",
   "execution_count": 98,
   "id": "cda29626",
   "metadata": {
    "ExecuteTime": {
     "end_time": "2023-01-24T21:56:50.994982Z",
     "start_time": "2023-01-24T21:50:10.378140Z"
    }
   },
   "outputs": [],
   "source": [
    "scaler = RobustScaler(inputCol=\"features\", outputCol=\"scaledFeatures\")\n",
    "scalerFitted = scaler.fit(train)\n",
    "train = scalerFitted.transform(train)"
   ]
  },
  {
   "cell_type": "code",
   "execution_count": 99,
   "id": "9efa2539",
   "metadata": {
    "ExecuteTime": {
     "end_time": "2023-01-24T21:56:51.055849Z",
     "start_time": "2023-01-24T21:56:51.005560Z"
    }
   },
   "outputs": [],
   "source": [
    "test = assembler.transform(test)\n",
    "test = test.select(col('features'),col('isFraud'))"
   ]
  },
  {
   "cell_type": "code",
   "execution_count": 100,
   "id": "b131c9ff",
   "metadata": {
    "ExecuteTime": {
     "end_time": "2023-01-24T21:56:51.102437Z",
     "start_time": "2023-01-24T21:56:51.060745Z"
    }
   },
   "outputs": [],
   "source": [
    "test = scalerFitted.transform(test)"
   ]
  },
  {
   "cell_type": "markdown",
   "id": "004e2afb",
   "metadata": {},
   "source": [
    "# 6.0 FEATURE IMPORTANCE AND SELECTION"
   ]
  },
  {
   "cell_type": "code",
   "execution_count": 101,
   "id": "4b7f7abb",
   "metadata": {
    "ExecuteTime": {
     "end_time": "2023-01-24T21:56:51.132413Z",
     "start_time": "2023-01-24T21:56:51.110436Z"
    }
   },
   "outputs": [],
   "source": [
    "#rf = RandomForestClassifier(labelCol='isFraud')\n",
    "#model_rf = rf.fit(train)\n",
    "#importances = model_rf.featureImportances.toArray()"
   ]
  },
  {
   "cell_type": "code",
   "execution_count": 102,
   "id": "2eb482e0",
   "metadata": {
    "ExecuteTime": {
     "end_time": "2023-01-24T21:56:51.179220Z",
     "start_time": "2023-01-24T21:56:51.163452Z"
    }
   },
   "outputs": [],
   "source": [
    "#importances"
   ]
  },
  {
   "cell_type": "code",
   "execution_count": 103,
   "id": "55663d49",
   "metadata": {
    "ExecuteTime": {
     "end_time": "2023-01-24T21:56:51.195178Z",
     "start_time": "2023-01-24T21:56:51.185191Z"
    }
   },
   "outputs": [],
   "source": [
    "#importance array:\n",
    "# array([0.12499196, 0.14105052, 0.09209054, 0.01887484, 0.00766871, 0.44657804, 0.019209, 0.13068397, 0.01885243])\n",
    "#columns:['amount','oldbalanceOrg','newbalanceOrig','oldbalanceDest','newbalanceDest','errorBalanceOrig','errorBalanceDest','flag','typeOneHot']\n",
    "#chosen: ['amount','oldbalanceOrg','newbalanceOrig','errorBalanceOrig','flag']"
   ]
  },
  {
   "cell_type": "markdown",
   "id": "567961b5",
   "metadata": {},
   "source": [
    "# 7.0 MACHINE LEARNING MODELLING"
   ]
  },
  {
   "cell_type": "markdown",
   "id": "21ff8731",
   "metadata": {},
   "source": [
    "## 7.1 LOGISTIC REGRESSION"
   ]
  },
  {
   "cell_type": "code",
   "execution_count": 104,
   "id": "2eb3bdf5",
   "metadata": {
    "ExecuteTime": {
     "end_time": "2023-01-24T22:12:10.061592Z",
     "start_time": "2023-01-24T21:56:51.202178Z"
    }
   },
   "outputs": [],
   "source": [
    "lr = LogisticRegression(labelCol='isFraud')\n",
    "lrn = lr.fit(train)\n",
    "lr_pred = lrn.transform(test)\n",
    "\n",
    "lr_pred = lr_pred.withColumn(\"label\",col(\"isFraud\").cast('double'))"
   ]
  },
  {
   "cell_type": "code",
   "execution_count": 105,
   "id": "c628247f",
   "metadata": {
    "ExecuteTime": {
     "end_time": "2023-01-24T22:14:09.217156Z",
     "start_time": "2023-01-24T22:12:10.074314Z"
    }
   },
   "outputs": [],
   "source": [
    "lr_pred = lr_pred.toPandas()"
   ]
  },
  {
   "cell_type": "code",
   "execution_count": 106,
   "id": "485f1e63",
   "metadata": {
    "ExecuteTime": {
     "end_time": "2023-01-24T22:14:09.248299Z",
     "start_time": "2023-01-24T22:14:09.226083Z"
    }
   },
   "outputs": [],
   "source": [
    "#lr_pred['prediction'] = lr_pred['probability'].apply(lambda x: 1 if x[1]>0.5 else 0)"
   ]
  },
  {
   "cell_type": "code",
   "execution_count": 107,
   "id": "e0453ce4",
   "metadata": {
    "ExecuteTime": {
     "end_time": "2023-01-24T22:14:09.448839Z",
     "start_time": "2023-01-24T22:14:09.255834Z"
    }
   },
   "outputs": [
    {
     "data": {
      "text/html": [
       "<div>\n",
       "<style scoped>\n",
       "    .dataframe tbody tr th:only-of-type {\n",
       "        vertical-align: middle;\n",
       "    }\n",
       "\n",
       "    .dataframe tbody tr th {\n",
       "        vertical-align: top;\n",
       "    }\n",
       "\n",
       "    .dataframe thead th {\n",
       "        text-align: right;\n",
       "    }\n",
       "</style>\n",
       "<table border=\"1\" class=\"dataframe\">\n",
       "  <thead>\n",
       "    <tr style=\"text-align: right;\">\n",
       "      <th>prediction</th>\n",
       "      <th>0.0</th>\n",
       "      <th>1.0</th>\n",
       "    </tr>\n",
       "    <tr>\n",
       "      <th>label</th>\n",
       "      <th></th>\n",
       "      <th></th>\n",
       "    </tr>\n",
       "  </thead>\n",
       "  <tbody>\n",
       "    <tr>\n",
       "      <th>0.0</th>\n",
       "      <td>801902</td>\n",
       "      <td>25028</td>\n",
       "    </tr>\n",
       "    <tr>\n",
       "      <th>1.0</th>\n",
       "      <td>348</td>\n",
       "      <td>2105</td>\n",
       "    </tr>\n",
       "  </tbody>\n",
       "</table>\n",
       "</div>"
      ],
      "text/plain": [
       "prediction     0.0    1.0\n",
       "label                    \n",
       "0.0         801902  25028\n",
       "1.0            348   2105"
      ]
     },
     "execution_count": 107,
     "metadata": {},
     "output_type": "execute_result"
    }
   ],
   "source": [
    "pd.crosstab(lr_pred['label'],lr_pred['prediction'])"
   ]
  },
  {
   "cell_type": "code",
   "execution_count": 108,
   "id": "6480f4f1",
   "metadata": {
    "ExecuteTime": {
     "end_time": "2023-01-24T22:14:09.877995Z",
     "start_time": "2023-01-24T22:14:09.457155Z"
    }
   },
   "outputs": [
    {
     "data": {
      "text/plain": [
       "0.8581328984916429"
      ]
     },
     "execution_count": 108,
     "metadata": {},
     "output_type": "execute_result"
    }
   ],
   "source": [
    "m.recall_score(lr_pred['label'],lr_pred['prediction'])"
   ]
  },
  {
   "cell_type": "code",
   "execution_count": 109,
   "id": "c0b85b8f",
   "metadata": {
    "ExecuteTime": {
     "end_time": "2023-01-24T22:14:10.308020Z",
     "start_time": "2023-01-24T22:14:09.882904Z"
    }
   },
   "outputs": [
    {
     "data": {
      "text/plain": [
       "0.07758080566100321"
      ]
     },
     "execution_count": 109,
     "metadata": {},
     "output_type": "execute_result"
    }
   ],
   "source": [
    "m.precision_score(lr_pred['label'],lr_pred['prediction'])"
   ]
  },
  {
   "cell_type": "code",
   "execution_count": 110,
   "id": "c7839f69",
   "metadata": {
    "ExecuteTime": {
     "end_time": "2023-01-24T22:14:10.515182Z",
     "start_time": "2023-01-24T22:14:10.312957Z"
    }
   },
   "outputs": [
    {
     "data": {
      "text/plain": [
       "0.9139333666390711"
      ]
     },
     "execution_count": 110,
     "metadata": {},
     "output_type": "execute_result"
    }
   ],
   "source": [
    "m.roc_auc_score(lr_pred['label'],lr_pred['prediction'])"
   ]
  },
  {
   "cell_type": "markdown",
   "id": "5da3bf4c",
   "metadata": {},
   "source": [
    "## 7.2 RANDOM FOREST"
   ]
  },
  {
   "cell_type": "code",
   "execution_count": 111,
   "id": "81cffa14",
   "metadata": {
    "ExecuteTime": {
     "end_time": "2023-01-24T23:12:14.610515Z",
     "start_time": "2023-01-24T22:14:10.520129Z"
    }
   },
   "outputs": [],
   "source": [
    "rf = RandomForestClassifier(labelCol='isFraud')\n",
    "rfn = rf.fit(train)\n",
    "rf_pred = rfn.transform(test)\n",
    "\n",
    "rf_pred = rf_pred.withColumn(\"label\",col(\"isFraud\").cast('double'))"
   ]
  },
  {
   "cell_type": "code",
   "execution_count": 112,
   "id": "cdcd9c0f",
   "metadata": {
    "ExecuteTime": {
     "end_time": "2023-01-24T23:16:37.617618Z",
     "start_time": "2023-01-24T23:12:14.676459Z"
    }
   },
   "outputs": [],
   "source": [
    "rf_pred = rf_pred.toPandas()"
   ]
  },
  {
   "cell_type": "code",
   "execution_count": 113,
   "id": "b0a86dbe",
   "metadata": {
    "ExecuteTime": {
     "end_time": "2023-01-24T23:16:37.989300Z",
     "start_time": "2023-01-24T23:16:37.633648Z"
    }
   },
   "outputs": [
    {
     "data": {
      "text/html": [
       "<div>\n",
       "<style scoped>\n",
       "    .dataframe tbody tr th:only-of-type {\n",
       "        vertical-align: middle;\n",
       "    }\n",
       "\n",
       "    .dataframe tbody tr th {\n",
       "        vertical-align: top;\n",
       "    }\n",
       "\n",
       "    .dataframe thead th {\n",
       "        text-align: right;\n",
       "    }\n",
       "</style>\n",
       "<table border=\"1\" class=\"dataframe\">\n",
       "  <thead>\n",
       "    <tr style=\"text-align: right;\">\n",
       "      <th>prediction</th>\n",
       "      <th>0.0</th>\n",
       "      <th>1.0</th>\n",
       "    </tr>\n",
       "    <tr>\n",
       "      <th>label</th>\n",
       "      <th></th>\n",
       "      <th></th>\n",
       "    </tr>\n",
       "  </thead>\n",
       "  <tbody>\n",
       "    <tr>\n",
       "      <th>0.0</th>\n",
       "      <td>826910</td>\n",
       "      <td>20</td>\n",
       "    </tr>\n",
       "    <tr>\n",
       "      <th>1.0</th>\n",
       "      <td>7</td>\n",
       "      <td>2446</td>\n",
       "    </tr>\n",
       "  </tbody>\n",
       "</table>\n",
       "</div>"
      ],
      "text/plain": [
       "prediction     0.0   1.0\n",
       "label                   \n",
       "0.0         826910    20\n",
       "1.0              7  2446"
      ]
     },
     "execution_count": 113,
     "metadata": {},
     "output_type": "execute_result"
    }
   ],
   "source": [
    "pd.crosstab(rf_pred['label'],rf_pred['prediction'])"
   ]
  },
  {
   "cell_type": "code",
   "execution_count": 114,
   "id": "5f851a63",
   "metadata": {
    "ExecuteTime": {
     "end_time": "2023-01-24T23:16:39.264163Z",
     "start_time": "2023-01-24T23:16:37.998850Z"
    }
   },
   "outputs": [
    {
     "data": {
      "text/plain": [
       "0.9971463514064411"
      ]
     },
     "execution_count": 114,
     "metadata": {},
     "output_type": "execute_result"
    }
   ],
   "source": [
    "m.recall_score(rf_pred['label'],rf_pred['prediction'])"
   ]
  },
  {
   "cell_type": "code",
   "execution_count": 115,
   "id": "07df1f72",
   "metadata": {
    "ExecuteTime": {
     "end_time": "2023-01-24T23:16:40.437828Z",
     "start_time": "2023-01-24T23:16:39.272161Z"
    }
   },
   "outputs": [
    {
     "data": {
      "text/plain": [
       "0.991889699918897"
      ]
     },
     "execution_count": 115,
     "metadata": {},
     "output_type": "execute_result"
    }
   ],
   "source": [
    "m.precision_score(rf_pred['label'],rf_pred['prediction'])"
   ]
  },
  {
   "cell_type": "code",
   "execution_count": 116,
   "id": "6a56cbb0",
   "metadata": {
    "ExecuteTime": {
     "end_time": "2023-01-24T23:16:40.932358Z",
     "start_time": "2023-01-24T23:16:40.445850Z"
    }
   },
   "outputs": [
    {
     "data": {
      "text/plain": [
       "0.9985610827812078"
      ]
     },
     "execution_count": 116,
     "metadata": {},
     "output_type": "execute_result"
    }
   ],
   "source": [
    "m.roc_auc_score(rf_pred['label'],rf_pred['prediction'])"
   ]
  }
 ],
 "metadata": {
  "kernelspec": {
   "display_name": "Python 3 (ipykernel)",
   "language": "python",
   "name": "python3"
  },
  "language_info": {
   "codemirror_mode": {
    "name": "ipython",
    "version": 3
   },
   "file_extension": ".py",
   "mimetype": "text/x-python",
   "name": "python",
   "nbconvert_exporter": "python",
   "pygments_lexer": "ipython3",
   "version": "3.8.15"
  }
 },
 "nbformat": 4,
 "nbformat_minor": 5
}
